{
  "nbformat": 4,
  "nbformat_minor": 0,
  "metadata": {
    "colab": {
      "name": "2021-04-25-RetoSeriesTemporales.ipynb",
      "provenance": [],
      "collapsed_sections": [],
      "toc_visible": true
    },
    "kernelspec": {
      "display_name": "Python 3",
      "name": "python3"
    },
    "language_info": {
      "name": "python"
    }
  },
  "cells": [
    {
      "cell_type": "markdown",
      "metadata": {
        "id": "KK6Bzjv0GjJo"
      },
      "source": [
        "\n",
        "# SPAIN-AI 2020 Hackathon Reto Series Temporales\n",
        "> Cómo No Ganar Un Reto\n",
        "\n",
        "- toc: true\n",
        "- badges: true\n",
        "- comments: true\n",
        "- categories: [SPAIN-AI, time_series, competition]\n",
        "- image: images/envios.png"
      ]
    },
    {
      "cell_type": "markdown",
      "metadata": {
        "id": "6cijw6nuLr_f"
      },
      "source": [
        "> _If ifs and ands were pots and pans..._"
      ]
    },
    {
      "cell_type": "markdown",
      "metadata": {
        "id": "anRhHGMd-63j"
      },
      "source": [
        "https://www.spain-ai.com/hackathon2020_reto_Series_Temporales.php\n",
        "\n",
        "https://competitions.codalab.org/competitions/28630"
      ]
    },
    {
      "cell_type": "markdown",
      "metadata": {
        "id": "q0m152rlQsDA"
      },
      "source": [
        "# PowerPoint Presentation 15 Mayo 2021"
      ]
    },
    {
      "cell_type": "code",
      "metadata": {
        "colab": {
          "base_uri": "https://localhost:8080/"
        },
        "id": "8ouDHrS2TNmO",
        "outputId": "9adbb649-9000-4c24-b7f8-d2e0330fe451"
      },
      "source": [
        "#hide\n",
        "from google.colab import drive\n",
        "drive.mount('/content/gdrive', force_remount=False)\n",
        "\n",
        "% cd \"/content/gdrive/My Drive/Colab Notebooks/TimeSeries\""
      ],
      "execution_count": 1,
      "outputs": [
        {
          "output_type": "stream",
          "text": [
            "Mounted at /content/gdrive\n",
            "/content/gdrive/My Drive/Colab Notebooks/TimeSeries\n"
          ],
          "name": "stdout"
        }
      ]
    },
    {
      "cell_type": "code",
      "metadata": {
        "id": "Bla8IWgeYgHm"
      },
      "source": [
        "#hide\n",
        "USERNAME='AlisonD'\n",
        "PASSWORD='0hf95Gen1k3v64'"
      ],
      "execution_count": 2,
      "outputs": []
    },
    {
      "cell_type": "markdown",
      "metadata": {
        "id": "5cJhZxffIvb1"
      },
      "source": [
        "Imports"
      ]
    },
    {
      "cell_type": "code",
      "metadata": {
        "id": "IQ7sTMWXUquz"
      },
      "source": [
        "#collapse-hide\n",
        "import os\n",
        "import pandas as pd\n",
        "import numpy as np\n",
        "\n",
        "import matplotlib.pyplot as plt\n",
        "from collections import Counter\n",
        "\n",
        "import warnings\n",
        "warnings.simplefilter(\"ignore\", UserWarning)\n",
        "\n",
        "pd.set_option('display.max_rows', 100)"
      ],
      "execution_count": 3,
      "outputs": []
    },
    {
      "cell_type": "markdown",
      "metadata": {
        "id": "uVDtEaH62HrK"
      },
      "source": [
        "# Reto: Lo que tienía que hacer"
      ]
    },
    {
      "cell_type": "markdown",
      "metadata": {
        "id": "VwHzDkKx_zH8"
      },
      "source": [
        "### Entender el reto\n",
        "\n",
        "Crea una cartera de activos (`darwins`), maximizando el `ratio de Sharpe`:\n",
        "\n",
        "- escoje 18 `darwins` de los 96 que están en los datos de entrenamiento\n",
        "- asigna una parte de la inversión total a cada uno de los 18 `darwins` \n",
        "- ajusta la asignación a lo largo del tiempo, cada hora desde el 18 agosto 2020 hasta el 24 diciembre 2020, los 2229 horas  que están en el fichero `submission.csv`\n",
        "- calcula el ratio de Sharpe\n",
        "\n",
        "No es un problema de predicción (todos los datos son disponible el `darwinex.com`) pero de creación de una cartera diversificada de activos no correlacionados entre sí, que tienen rendimientos estables.\n",
        "\n",
        "La **métrica** a maximizar \n",
        "\n",
        "$$S = \\frac{E[R_a-R_b]}{\\sigma_a}$$\n",
        "\n",
        "$R_a$ es el rendimiento de la cartera\n",
        "\n",
        "$R_b$ es el rendimiento de una inversión de referencia\n",
        "\n",
        "$\\sigma_a$ es la desviación estándar (volatilidad) del exceso de rendimiento de la inversión\n",
        "\n",
        "Asumiendo que  $R_b$ fuera constante, hay que maximizar el rendimiento dividido por la volatilidad, así que **buscamos rendimientos estables**."
      ]
    },
    {
      "cell_type": "markdown",
      "metadata": {
        "id": "QD6e72YeI9f4"
      },
      "source": [
        "Necesita % inversión por cada hora"
      ]
    },
    {
      "cell_type": "code",
      "metadata": {
        "colab": {
          "base_uri": "https://localhost:8080/",
          "height": 266
        },
        "id": "7PSDep3vAn6J",
        "outputId": "537b9c48-a4e0-484c-a0d5-1665177e2826"
      },
      "source": [
        "#collapse-hide\n",
        "xs = [2,6,10,14,18,22,25,35,40,43,45,50,54,57,59,66,70,77]\n",
        "ys = np.array([0.0173,0.0379,0.0629,0.0309,0.1232,0.0654,0.2552,0.0076,0.0378,0.0235,0.0329,0.0487,0.0272,0.0383,0.0762,0.0165,0.0930,0.0055])*100\n",
        "fig = plt.figure(figsize=(20,8))\n",
        "\n",
        "ax = fig.add_subplot()\n",
        "ax.scatter(xs,ys, color='#ffe559')\n",
        "ax.set_xlabel('Darwin')\n",
        "ax.set_ylabel('% inversión')\n",
        "annotations=['AUX', 'AZG', 'BFS', 'BOT', 'EOP', 'ERQ', 'FIR', 'HEO', 'JTL', 'MUF', 'NWO', 'NYP', 'PHI', 'PUL', 'TXR', 'ZAB', 'ZCD', 'ZVQ']\n",
        "for i, label in enumerate(annotations):\n",
        "    plt.annotate(label, (xs[i], ys[i]))\n",
        "plt.xticks([])\n",
        "plt.tight_layout()\n",
        "plt.savefig(\"darwins.png\") \n",
        "plt.show()"
      ],
      "execution_count": null,
      "outputs": [
        {
          "output_type": "display_data",
          "data": {
            "image/png": "[encoded data removed]",
            "text/plain": [
              "<Figure size 1440x576 with 1 Axes>"
            ]
          },
          "metadata": {
            "tags": [],
            "needs_background": "light"
          }
        }
      ]
    },
    {
      "cell_type": "markdown",
      "metadata": {
        "id": "JOPfKXH-2DJj"
      },
      "source": [
        "# Realidad: Lo que hice"
      ]
    },
    {
      "cell_type": "markdown",
      "metadata": {
        "id": "07EeYJO9TShN"
      },
      "source": [
        "\n",
        "\n",
        "### Explora los datos históricos de entrenamiento - calcula `score`\n",
        "\n",
        "\n",
        "\n"
      ]
    },
    {
      "cell_type": "code",
      "metadata": {
        "colab": {
          "base_uri": "https://localhost:8080/",
          "height": 202
        },
        "id": "J4cHTmsNTUOY",
        "outputId": "330d32e8-a906-47b9-ae25-fb41370a01b1"
      },
      "source": [
        "candles=pd.DataFrame(columns=['date','close','max','min','open','std_dev','score','darwin'])\n",
        "filenames = [x for x in os.listdir('./data/TrainCandles')]\n",
        "for filename in filenames:\n",
        "  df=pd.read_csv('./data/TrainCandles/'+filename).rename(columns={'Unnamed: 0':'date'})\n",
        "  df.date = pd.to_datetime(df.date)\n",
        "  df['std_dev']=df.std(axis=1)\n",
        "  df['score']=(round((df.close-df.open)/df.std_dev,6)).fillna(0)\n",
        "  df['darwin']=filename[-13:-10]\n",
        "  candles=candles.append(df)\n",
        "\n",
        "candles.head() "
      ],
      "execution_count": null,
      "outputs": [
        {
          "output_type": "execute_result",
          "data": {
            "text/html": [
              "<div>\n",
              "<style scoped>\n",
              "    .dataframe tbody tr th:only-of-type {\n",
              "        vertical-align: middle;\n",
              "    }\n",
              "\n",
              "    .dataframe tbody tr th {\n",
              "        vertical-align: top;\n",
              "    }\n",
              "\n",
              "    .dataframe thead th {\n",
              "        text-align: right;\n",
              "    }\n",
              "</style>\n",
              "<table border=\"1\" class=\"dataframe\">\n",
              "  <thead>\n",
              "    <tr style=\"text-align: right;\">\n",
              "      <th></th>\n",
              "      <th>date</th>\n",
              "      <th>close</th>\n",
              "      <th>max</th>\n",
              "      <th>min</th>\n",
              "      <th>open</th>\n",
              "      <th>std_dev</th>\n",
              "      <th>score</th>\n",
              "      <th>darwin</th>\n",
              "    </tr>\n",
              "  </thead>\n",
              "  <tbody>\n",
              "    <tr>\n",
              "      <th>0</th>\n",
              "      <td>2019-08-04 21:00:00</td>\n",
              "      <td>110.40</td>\n",
              "      <td>110.46</td>\n",
              "      <td>110.37</td>\n",
              "      <td>110.38</td>\n",
              "      <td>0.040311</td>\n",
              "      <td>0.496139</td>\n",
              "      <td>HCC</td>\n",
              "    </tr>\n",
              "    <tr>\n",
              "      <th>1</th>\n",
              "      <td>2019-08-04 22:00:00</td>\n",
              "      <td>110.57</td>\n",
              "      <td>110.63</td>\n",
              "      <td>110.32</td>\n",
              "      <td>110.41</td>\n",
              "      <td>0.142683</td>\n",
              "      <td>1.121370</td>\n",
              "      <td>HCC</td>\n",
              "    </tr>\n",
              "    <tr>\n",
              "      <th>2</th>\n",
              "      <td>2019-08-04 23:00:00</td>\n",
              "      <td>110.49</td>\n",
              "      <td>110.57</td>\n",
              "      <td>110.45</td>\n",
              "      <td>110.57</td>\n",
              "      <td>0.060000</td>\n",
              "      <td>-1.333333</td>\n",
              "      <td>HCC</td>\n",
              "    </tr>\n",
              "    <tr>\n",
              "      <th>3</th>\n",
              "      <td>2019-08-05 00:00:00</td>\n",
              "      <td>110.51</td>\n",
              "      <td>110.60</td>\n",
              "      <td>110.38</td>\n",
              "      <td>110.48</td>\n",
              "      <td>0.090692</td>\n",
              "      <td>0.330791</td>\n",
              "      <td>HCC</td>\n",
              "    </tr>\n",
              "    <tr>\n",
              "      <th>4</th>\n",
              "      <td>2019-08-05 01:00:00</td>\n",
              "      <td>109.94</td>\n",
              "      <td>110.68</td>\n",
              "      <td>109.90</td>\n",
              "      <td>110.50</td>\n",
              "      <td>0.394081</td>\n",
              "      <td>-1.421027</td>\n",
              "      <td>HCC</td>\n",
              "    </tr>\n",
              "  </tbody>\n",
              "</table>\n",
              "</div>"
            ],
            "text/plain": [
              "                 date   close     max  ...   std_dev     score  darwin\n",
              "0 2019-08-04 21:00:00  110.40  110.46  ...  0.040311  0.496139     HCC\n",
              "1 2019-08-04 22:00:00  110.57  110.63  ...  0.142683  1.121370     HCC\n",
              "2 2019-08-04 23:00:00  110.49  110.57  ...  0.060000 -1.333333     HCC\n",
              "3 2019-08-05 00:00:00  110.51  110.60  ...  0.090692  0.330791     HCC\n",
              "4 2019-08-05 01:00:00  109.94  110.68  ...  0.394081 -1.421027     HCC\n",
              "\n",
              "[5 rows x 8 columns]"
            ]
          },
          "metadata": {
            "tags": []
          },
          "execution_count": 15
        }
      ]
    },
    {
      "cell_type": "code",
      "metadata": {
        "colab": {
          "base_uri": "https://localhost:8080/",
          "height": 281
        },
        "id": "EK9SkJPEWxH7",
        "outputId": "866cb829-6317-4d8c-e68c-5b759f13fb11"
      },
      "source": [
        "plt.hist(candles.score, color='#FFE599')\n",
        "plt.title('Count of hourly scores');"
      ],
      "execution_count": null,
      "outputs": [
        {
          "output_type": "display_data",
          "data": {
            "image/png": "[encoded data removed]",
            "text/plain": [
              "<Figure size 432x288 with 1 Axes>"
            ]
          },
          "metadata": {
            "tags": [],
            "needs_background": "light"
          }
        }
      ]
    },
    {
      "cell_type": "markdown",
      "metadata": {
        "id": "imDRd8hZXFyn"
      },
      "source": [
        "Identifica qué `darwin` tenía el máximo `score` en cada hora.\n",
        "\n",
        "Conta cuánto veces cada `darwin` tiene el máximo `score`.\n",
        "\n",
        "Investiga esos `darwins` primero."
      ]
    },
    {
      "cell_type": "code",
      "metadata": {
        "id": "OlmKSkPcW7wJ",
        "colab": {
          "base_uri": "https://localhost:8080/",
          "height": 129
        },
        "outputId": "60a19259-0eb1-4d17-eace-bdcfb7055e3e"
      },
      "source": [
        "lst=[candles[(candles['date']==hour) & (candles.score==candles[candles['date']==hour].score.max())].darwin.to_list()[0] for hour in sorted(candles['date'].unique())]\n",
        "count_dict=Counter(lst)\n",
        "df=pd.DataFrame.from_dict(count_dict, orient='index').sort_values(0, ascending=False)\n",
        "darwins_lst=df.index.to_list()\n",
        "darwins_lst=darwins_lst+['MMY','TMF'] # the 2 darwins that never had max score\n",
        "df.T"
      ],
      "execution_count": null,
      "outputs": [
        {
          "output_type": "execute_result",
          "data": {
            "text/html": [
              "<div>\n",
              "<style scoped>\n",
              "    .dataframe tbody tr th:only-of-type {\n",
              "        vertical-align: middle;\n",
              "    }\n",
              "\n",
              "    .dataframe tbody tr th {\n",
              "        vertical-align: top;\n",
              "    }\n",
              "\n",
              "    .dataframe thead th {\n",
              "        text-align: right;\n",
              "    }\n",
              "</style>\n",
              "<table border=\"1\" class=\"dataframe\">\n",
              "  <thead>\n",
              "    <tr style=\"text-align: right;\">\n",
              "      <th></th>\n",
              "      <th>BSX</th>\n",
              "      <th>FNM</th>\n",
              "      <th>ZTY</th>\n",
              "      <th>CBY</th>\n",
              "      <th>NYD</th>\n",
              "      <th>TKT</th>\n",
              "      <th>BFS</th>\n",
              "      <th>NWO</th>\n",
              "      <th>HZY</th>\n",
              "      <th>NVL</th>\n",
              "      <th>YEC</th>\n",
              "      <th>TER</th>\n",
              "      <th>PUL</th>\n",
              "      <th>VRT</th>\n",
              "      <th>NCT</th>\n",
              "      <th>MUF</th>\n",
              "      <th>FSK</th>\n",
              "      <th>PEW</th>\n",
              "      <th>LEN</th>\n",
              "      <th>LUG</th>\n",
              "      <th>PHI</th>\n",
              "      <th>BGN</th>\n",
              "      <th>TXR</th>\n",
              "      <th>UYZ</th>\n",
              "      <th>MET</th>\n",
              "      <th>REU</th>\n",
              "      <th>UEI</th>\n",
              "      <th>ZVQ</th>\n",
              "      <th>ZCD</th>\n",
              "      <th>SYO</th>\n",
              "      <th>BZC</th>\n",
              "      <th>XRX</th>\n",
              "      <th>ULT</th>\n",
              "      <th>HQU</th>\n",
              "      <th>WWT</th>\n",
              "      <th>CIS</th>\n",
              "      <th>TRO</th>\n",
              "      <th>FFV</th>\n",
              "      <th>MCA</th>\n",
              "      <th>AWW</th>\n",
              "      <th>...</th>\n",
              "      <th>OXR</th>\n",
              "      <th>ACY</th>\n",
              "      <th>GRI</th>\n",
              "      <th>HCC</th>\n",
              "      <th>PPT</th>\n",
              "      <th>FIR</th>\n",
              "      <th>ULI</th>\n",
              "      <th>ZAB</th>\n",
              "      <th>ZUJ</th>\n",
              "      <th>SKN</th>\n",
              "      <th>EEY</th>\n",
              "      <th>SKI</th>\n",
              "      <th>SEH</th>\n",
              "      <th>NSC</th>\n",
              "      <th>SHC</th>\n",
              "      <th>EOP</th>\n",
              "      <th>WXN</th>\n",
              "      <th>LHB</th>\n",
              "      <th>SBY</th>\n",
              "      <th>IDT</th>\n",
              "      <th>RWJ</th>\n",
              "      <th>JTL</th>\n",
              "      <th>JNE</th>\n",
              "      <th>CSB</th>\n",
              "      <th>DIG</th>\n",
              "      <th>YFC</th>\n",
              "      <th>DZF</th>\n",
              "      <th>ERO</th>\n",
              "      <th>BAX</th>\n",
              "      <th>ERQ</th>\n",
              "      <th>NYP</th>\n",
              "      <th>AUX</th>\n",
              "      <th>GRU</th>\n",
              "      <th>UPP</th>\n",
              "      <th>BOT</th>\n",
              "      <th>USX</th>\n",
              "      <th>JHI</th>\n",
              "      <th>PME</th>\n",
              "      <th>THA</th>\n",
              "      <th>YAX</th>\n",
              "    </tr>\n",
              "  </thead>\n",
              "  <tbody>\n",
              "    <tr>\n",
              "      <th>0</th>\n",
              "      <td>539</td>\n",
              "      <td>512</td>\n",
              "      <td>457</td>\n",
              "      <td>455</td>\n",
              "      <td>397</td>\n",
              "      <td>396</td>\n",
              "      <td>343</td>\n",
              "      <td>341</td>\n",
              "      <td>314</td>\n",
              "      <td>311</td>\n",
              "      <td>290</td>\n",
              "      <td>281</td>\n",
              "      <td>260</td>\n",
              "      <td>221</td>\n",
              "      <td>210</td>\n",
              "      <td>208</td>\n",
              "      <td>187</td>\n",
              "      <td>178</td>\n",
              "      <td>169</td>\n",
              "      <td>145</td>\n",
              "      <td>140</td>\n",
              "      <td>138</td>\n",
              "      <td>132</td>\n",
              "      <td>114</td>\n",
              "      <td>111</td>\n",
              "      <td>102</td>\n",
              "      <td>99</td>\n",
              "      <td>99</td>\n",
              "      <td>85</td>\n",
              "      <td>84</td>\n",
              "      <td>81</td>\n",
              "      <td>78</td>\n",
              "      <td>76</td>\n",
              "      <td>70</td>\n",
              "      <td>66</td>\n",
              "      <td>63</td>\n",
              "      <td>63</td>\n",
              "      <td>56</td>\n",
              "      <td>55</td>\n",
              "      <td>54</td>\n",
              "      <td>...</td>\n",
              "      <td>32</td>\n",
              "      <td>31</td>\n",
              "      <td>30</td>\n",
              "      <td>30</td>\n",
              "      <td>30</td>\n",
              "      <td>29</td>\n",
              "      <td>28</td>\n",
              "      <td>28</td>\n",
              "      <td>28</td>\n",
              "      <td>27</td>\n",
              "      <td>24</td>\n",
              "      <td>24</td>\n",
              "      <td>23</td>\n",
              "      <td>22</td>\n",
              "      <td>21</td>\n",
              "      <td>21</td>\n",
              "      <td>21</td>\n",
              "      <td>21</td>\n",
              "      <td>21</td>\n",
              "      <td>21</td>\n",
              "      <td>20</td>\n",
              "      <td>20</td>\n",
              "      <td>19</td>\n",
              "      <td>19</td>\n",
              "      <td>15</td>\n",
              "      <td>15</td>\n",
              "      <td>14</td>\n",
              "      <td>14</td>\n",
              "      <td>12</td>\n",
              "      <td>11</td>\n",
              "      <td>8</td>\n",
              "      <td>8</td>\n",
              "      <td>7</td>\n",
              "      <td>6</td>\n",
              "      <td>5</td>\n",
              "      <td>5</td>\n",
              "      <td>5</td>\n",
              "      <td>4</td>\n",
              "      <td>3</td>\n",
              "      <td>1</td>\n",
              "    </tr>\n",
              "  </tbody>\n",
              "</table>\n",
              "<p>1 rows × 94 columns</p>\n",
              "</div>"
            ],
            "text/plain": [
              "   BSX  FNM  ZTY  CBY  NYD  TKT  BFS  ...  UPP  BOT  USX  JHI  PME  THA  YAX\n",
              "0  539  512  457  455  397  396  343  ...    6    5    5    5    4    3    1\n",
              "\n",
              "[1 rows x 94 columns]"
            ]
          },
          "metadata": {
            "tags": []
          },
          "execution_count": 17
        }
      ]
    },
    {
      "cell_type": "code",
      "metadata": {
        "id": "ku6vngly00KZ"
      },
      "source": [
        "#collapse-hide\n",
        "def plot_historic_dars(dars):\n",
        "  rows, cols=2, int(.5+len(dars)/2)\n",
        "  fig, ax = plt.subplots(nrows = rows, ncols = cols, figsize=(20, 8))\n",
        "  for i in range(rows):\n",
        "    for j in range(cols):\n",
        "      darwin=dars[cols*i+j]\n",
        "      ax[i][j].plot(candles[candles.darwin==darwin].date.apply(lambda x: x.date()),candles[candles.darwin==darwin]['open']-candles[candles.darwin==darwin]['open'][0], color='#ffd966')\n",
        "      ax[i][j].set_title(darwin, color='#ffd966', loc='center', y=0.9)\n",
        "      ax[i][j].set_ylim(-50,100)\n",
        "      ax[i][j].set_frame_on(False)\n",
        "      ax[i][j].set_xlabel('Periodo de Entrenamiento')\n",
        "      ax[i][j].set_xticklabels([])\n",
        "      ax[i][j].axhline(y=0, color='grey', linestyle='dotted')"
      ],
      "execution_count": null,
      "outputs": []
    },
    {
      "cell_type": "code",
      "metadata": {
        "id": "GaaaQ-3f02qz",
        "colab": {
          "base_uri": "https://localhost:8080/",
          "height": 491
        },
        "outputId": "b66e5efd-f7c1-41fa-a665-b992ff2d149b"
      },
      "source": [
        "plot_historic_dars(df.index[:6])"
      ],
      "execution_count": null,
      "outputs": [
        {
          "output_type": "display_data",
          "data": {
            "image/png": "[encoded data removed]",
            "text/plain": [
              "<Figure size 1440x576 with 6 Axes>"
            ]
          },
          "metadata": {
            "tags": [],
            "needs_background": "light"
          }
        }
      ]
    },
    {
      "cell_type": "markdown",
      "metadata": {
        "id": "KrYsI0tCYBlB"
      },
      "source": [
        "### Descarga datos de los `darwins` con más horas de máximo `score`\n",
        " \n",
        "Desde agosto 2020 hasta diciembre 2020 desde darwinex.com, utilizando `ftp`\n",
        "https://github.com/darwinex/darwinexapis/blob/master/darwinexapis/API/DarwinDataAnalyticsAPI/DWX_Data_Analytics_API.py"
      ]
    },
    {
      "cell_type": "code",
      "metadata": {
        "id": "u7mlot8Z-GTB"
      },
      "source": [
        "top=['BSX','FNM','ZTY','CBY','NYD','TKT','BFS','NWO','HZY','NVL','YEC','TER','PUL','VRT','NCT','MUF','FSK','PEW','LEN','LUG','PHI','BGN','TXR','UYZ','MET','REU','UEI','ZVQ',\n",
        "     'ZCD','SYO','BZC','XRX','ULT','HQU','WWT','CIS','TRO','FFV','MCA','AWW','GGR','AZG','GFJ','LWK','VVC','WFJ','OJG','OOS','SRI','LWE','HEO','RAT','TDD','ZXW','OXR','ACY',\n",
        "     'GRI','HCC','PPT','FIR','ULI','ZAB','ZUJ','SKN','EEY','SKI','SEH','NSC','SHC','EOP','WXN','LHB','SBY','IDT','RWJ','JTL']"
      ],
      "execution_count": null,
      "outputs": []
    },
    {
      "cell_type": "markdown",
      "metadata": {
        "id": "bLI8ryEDJXDs"
      },
      "source": [
        "Imports and server"
      ]
    },
    {
      "cell_type": "code",
      "metadata": {
        "colab": {
          "base_uri": "https://localhost:8080/",
          "height": 35
        },
        "id": "bp-3fTkcYY21",
        "outputId": "313ada79-aa68-47fa-a5c2-f955693ce212"
      },
      "source": [
        "#collapse-hide\n",
        "from ftplib import FTP\n",
        "from tqdm import tqdm\n",
        "from io import BytesIO\n",
        "import gzip\n",
        "\n",
        "FTP_CRED = {'username': USERNAME,\n",
        "            'password': PASSWORD,\n",
        "            'server': \"darwindata.darwinex.com\",\n",
        "            'port': 21}\n",
        "\n",
        "dwx_ftp_hostname=FTP_CRED['server']\n",
        "dwx_ftp_user=FTP_CRED['username']\n",
        "dwx_ftp_pass=FTP_CRED['password']\n",
        "\n",
        "server = FTP(dwx_ftp_hostname)\n",
        "server.login(dwx_ftp_user, dwx_ftp_pass)"
      ],
      "execution_count": null,
      "outputs": [
        {
          "output_type": "execute_result",
          "data": {
            "application/vnd.google.colaboratory.intrinsic+json": {
              "type": "string"
            },
            "text/plain": [
              "'230-Your bandwidth usage is restricted\\n230 OK. Current restricted directory is /'"
            ]
          },
          "metadata": {
            "tags": []
          },
          "execution_count": 11
        }
      ]
    },
    {
      "cell_type": "markdown",
      "metadata": {
        "id": "5sWBcdPwJdVw"
      },
      "source": [
        "{DARWIN_TICKER}.{PRODUCT_RISK}.{COLOUR}_{PRODUCTID}_YYYY-MM-DD.HH.csv.gz\n",
        "'former_var10'"
      ]
    },
    {
      "cell_type": "code",
      "metadata": {
        "colab": {
          "base_uri": "https://localhost:8080/"
        },
        "id": "A_0DUx8UY2_S",
        "outputId": "101bee88-5269-416b-df57-d688789426ac"
      },
      "source": [
        "year='2020'\n",
        "darwins_lst_dld=['FNM']\n",
        "for darwin in darwins_lst_dld:\n",
        "  print(darwin)\n",
        "  for month in ['08','09','10','11','12']: \n",
        "    quote_files = []\n",
        "    server.retrlines(f'NLST {darwin}/_{darwin}_former_var10/quotes/{year}-{month}/', quote_files.append)\n",
        "    quote_files = [f'{darwin}/_{darwin}_former_var10/quotes/{year}-{month}/{quote_file}' for quote_file in quote_files]\n",
        "  \n",
        "    # Process tick data files\n",
        "    tqdm.write(f'\\n[KERNEL] {len(quote_files)} files retrieved.. post-processing now, please wait..', end='')\n",
        "    ticks_df = pd.DataFrame()\n",
        "    ticks_pbar = tqdm(quote_files, position=0, leave=True)\n",
        "            \n",
        "    for tick_file in ticks_pbar:\n",
        "      # Clear / reinitialize buffer\n",
        "      retbuf = BytesIO()\n",
        "      server.retrbinary(f\"RETR {tick_file}\", retbuf.write)\n",
        "      retbuf.seek(0)\n",
        "      # Extract data from BytesIO object\n",
        "      ret = [line.strip().decode().split(',') for line in gzip.open(retbuf)]\n",
        "      ticks_df = pd.concat([ticks_df, pd.DataFrame(ret[1:])], axis=0)\n",
        "\n",
        "    # Clean up\n",
        "    ticks_df.columns = ['timestamp','quote']\n",
        "    ticks_df.timestamp = ticks_df.timestamp.apply(pd.to_numeric)\n",
        "    ticks_df.set_index('timestamp', drop=True, inplace=True)\n",
        "    ticks_df.index = pd.to_datetime(ticks_df.index, unit='ms')\n",
        "    ticks_df.quote = ticks_df.quote.apply(pd.to_numeric)\n",
        "    ticks_df.dropna()\n",
        "    fn='quotes/'+darwin+'_'+year+'_'+month+'_quotes.csv'\n",
        "    ticks_df.to_csv('./data/'+fn)"
      ],
      "execution_count": null,
      "outputs": [
        {
          "output_type": "stream",
          "text": [
            "FNM\n"
          ],
          "name": "stdout"
        },
        {
          "output_type": "stream",
          "text": [
            "\r  0%|          | 0/228 [00:00<?, ?it/s]"
          ],
          "name": "stderr"
        },
        {
          "output_type": "stream",
          "text": [
            "\n",
            "[KERNEL] 228 files retrieved.. post-processing now, please wait.."
          ],
          "name": "stdout"
        },
        {
          "output_type": "stream",
          "text": [
            "100%|██████████| 228/228 [01:42<00:00,  2.23it/s]\n",
            "  0%|          | 0/259 [00:00<?, ?it/s]"
          ],
          "name": "stderr"
        },
        {
          "output_type": "stream",
          "text": [
            "\n",
            "[KERNEL] 259 files retrieved.. post-processing now, please wait.."
          ],
          "name": "stdout"
        },
        {
          "output_type": "stream",
          "text": [
            "100%|██████████| 259/259 [01:55<00:00,  2.23it/s]\n",
            "  0%|          | 0/288 [00:00<?, ?it/s]"
          ],
          "name": "stderr"
        },
        {
          "output_type": "stream",
          "text": [
            "\n",
            "[KERNEL] 288 files retrieved.. post-processing now, please wait.."
          ],
          "name": "stdout"
        },
        {
          "output_type": "stream",
          "text": [
            "100%|██████████| 288/288 [02:09<00:00,  2.22it/s]\n",
            "  0%|          | 0/331 [00:00<?, ?it/s]"
          ],
          "name": "stderr"
        },
        {
          "output_type": "stream",
          "text": [
            "\n",
            "[KERNEL] 331 files retrieved.. post-processing now, please wait.."
          ],
          "name": "stdout"
        },
        {
          "output_type": "stream",
          "text": [
            "100%|██████████| 331/331 [02:32<00:00,  2.17it/s]\n",
            "  0%|          | 0/225 [00:00<?, ?it/s]"
          ],
          "name": "stderr"
        },
        {
          "output_type": "stream",
          "text": [
            "\n",
            "[KERNEL] 225 files retrieved.. post-processing now, please wait.."
          ],
          "name": "stdout"
        },
        {
          "output_type": "stream",
          "text": [
            "100%|██████████| 225/225 [01:39<00:00,  2.25it/s]\n"
          ],
          "name": "stderr"
        }
      ]
    },
    {
      "cell_type": "markdown",
      "metadata": {
        "id": "ce6DlXC6JrGu"
      },
      "source": [
        "new"
      ]
    },
    {
      "cell_type": "code",
      "metadata": {
        "id": "5N0ZZpNiZYpc",
        "colab": {
          "base_uri": "https://localhost:8080/"
        },
        "outputId": "bacfb29c-4171-45b6-f91e-19e5a35380e3"
      },
      "source": [
        "darwins_lst_dld=['PPT']\n",
        "for darwin in darwins_lst_dld:  #to do\n",
        "  print(darwin)\n",
        "  for month in ['08','09','10','11','12']:\n",
        "    quote_files = []\n",
        "    server.retrlines(f'NLST {darwin}/quotes/{year}-{month}/', quote_files.append)\n",
        "    quote_files = [f'{darwin}/quotes/{year}-{month}/{quote_file}' for quote_file in quote_files]\n",
        "\n",
        "    # Process tick data files\n",
        "    tqdm.write(f'\\n[KERNEL] {len(quote_files)} files retrieved.. post-processing now, please wait..', end='')\n",
        "    ticks_df = pd.DataFrame()\n",
        "    ticks_pbar = tqdm(quote_files, position=0, leave=True)\n",
        "            \n",
        "    for tick_file in ticks_pbar:\n",
        "      # Clear / reinitialize buffer\n",
        "      retbuf = BytesIO()\n",
        "      server.retrbinary(f\"RETR {tick_file}\", retbuf.write)\n",
        "      retbuf.seek(0)\n",
        "      # Extract data from BytesIO object\n",
        "      ret = [line.strip().decode().split(',') for line in gzip.open(retbuf)]\n",
        "      ticks_df = pd.concat([ticks_df, pd.DataFrame(ret[1:])], axis=0)\n",
        "\n",
        "    # Clean up\n",
        "    ticks_df.columns = ['timestamp','quote']\n",
        "    ticks_df.timestamp = ticks_df.timestamp.apply(pd.to_numeric)\n",
        "    ticks_df.set_index('timestamp', drop=True, inplace=True)\n",
        "    ticks_df.index = pd.to_datetime(ticks_df.index, unit='ms')\n",
        "    ticks_df.quote = ticks_df.quote.apply(pd.to_numeric)\n",
        "    ticks_df.dropna()\n",
        "    fn='quotes/'+darwin+'_'+year+'_'+month+'_quotes.csv'\n",
        "    ticks_df.to_csv('./data/'+fn)"
      ],
      "execution_count": null,
      "outputs": [
        {
          "output_type": "stream",
          "text": [
            "PPT\n"
          ],
          "name": "stdout"
        },
        {
          "output_type": "stream",
          "text": [
            "\r  0%|          | 0/511 [00:00<?, ?it/s]"
          ],
          "name": "stderr"
        },
        {
          "output_type": "stream",
          "text": [
            "\n",
            "[KERNEL] 511 files retrieved.. post-processing now, please wait.."
          ],
          "name": "stdout"
        },
        {
          "output_type": "stream",
          "text": [
            "100%|██████████| 511/511 [04:08<00:00,  2.05it/s]\n",
            "  0%|          | 0/428 [00:00<?, ?it/s]"
          ],
          "name": "stderr"
        },
        {
          "output_type": "stream",
          "text": [
            "\n",
            "[KERNEL] 428 files retrieved.. post-processing now, please wait.."
          ],
          "name": "stdout"
        },
        {
          "output_type": "stream",
          "text": [
            "100%|██████████| 428/428 [03:19<00:00,  2.14it/s]\n",
            "  0%|          | 0/26 [00:00<?, ?it/s]"
          ],
          "name": "stderr"
        },
        {
          "output_type": "stream",
          "text": [
            "\n",
            "[KERNEL] 26 files retrieved.. post-processing now, please wait.."
          ],
          "name": "stdout"
        },
        {
          "output_type": "stream",
          "text": [
            "100%|██████████| 26/26 [00:10<00:00,  2.53it/s]\n",
            "  0%|          | 0/26 [00:00<?, ?it/s]"
          ],
          "name": "stderr"
        },
        {
          "output_type": "stream",
          "text": [
            "\n",
            "[KERNEL] 26 files retrieved.. post-processing now, please wait.."
          ],
          "name": "stdout"
        },
        {
          "output_type": "stream",
          "text": [
            "100%|██████████| 26/26 [00:10<00:00,  2.54it/s]\n",
            "  0%|          | 0/26 [00:00<?, ?it/s]"
          ],
          "name": "stderr"
        },
        {
          "output_type": "stream",
          "text": [
            "\n",
            "[KERNEL] 26 files retrieved.. post-processing now, please wait.."
          ],
          "name": "stdout"
        },
        {
          "output_type": "stream",
          "text": [
            "100%|██████████| 26/26 [00:10<00:00,  2.53it/s]\n"
          ],
          "name": "stderr"
        }
      ]
    },
    {
      "cell_type": "markdown",
      "metadata": {
        "id": "jxrlQx7MaKHJ"
      },
      "source": [
        "### Asigna porcentajes\n",
        "\n",
        "Crea una cartera de los top 18 `darwins` e investiga su ratio de Sharpe variando porcentajes asignados"
      ]
    },
    {
      "cell_type": "code",
      "metadata": {
        "id": "Yc2TjbsVaGA8"
      },
      "source": [
        "def create_hourly(fn, darwin):\n",
        "  df=pd.read_csv('./data/quotes/'+fn)\n",
        "  df.timestamp=pd.to_datetime(df.timestamp)\n",
        "  df['date']=df.timestamp.dt.date\n",
        "  df['hour']=df.timestamp.dt.hour\n",
        "  df1=df.groupby(['date','hour']).agg({'quote': ['min','max','var','count','first','last']}).fillna(0)\n",
        "  df1.columns=df1.columns.droplevel()\n",
        "  df1['darwin']=darwin\n",
        "  return df1"
      ],
      "execution_count": null,
      "outputs": []
    },
    {
      "cell_type": "markdown",
      "metadata": {
        "id": "Jh1wjAwSJvkZ"
      },
      "source": [
        "Importa los datos"
      ]
    },
    {
      "cell_type": "code",
      "metadata": {
        "colab": {
          "base_uri": "https://localhost:8080/"
        },
        "id": "7wNWZMS1abaq",
        "outputId": "1698b1ec-63d4-4e94-f69a-f9796ad131a5"
      },
      "source": [
        "hourly = pd.DataFrame(columns=['min','max','var','count','first','last','score','darwin'])\n",
        "for darwin in top:\n",
        "  for filename in [darwin+'_2020_08_quotes.csv',\n",
        "                   darwin+'_2020_09_quotes.csv',\n",
        "                   darwin+'_2020_10_quotes.csv',\n",
        "                   darwin+'_2020_11_quotes.csv',\n",
        "                   darwin+'_2020_12_quotes.csv']:\n",
        "    hourly=hourly.append(create_hourly(filename, darwin))\n",
        "\n",
        "hourly['score']=round((hourly['last']-hourly['first'])/np.sqrt(hourly['var']),4).fillna(0)\n",
        "hourly['return']=hourly['last']-hourly['first']\n",
        "\n",
        "hourly.reset_index(inplace=True)\n",
        "hourly.rename(columns={'index':'hour'},inplace=True)\n",
        "hourly.hour=hourly.hour.apply(lambda x: pd.Timestamp(x[0])+pd.to_timedelta(x[1], unit='h'))\n",
        "\n",
        "print(hourly.shape)\n",
        "hourly.head()"
      ],
      "execution_count": null,
      "outputs": [
        {
          "output_type": "stream",
          "text": [
            "(108844, 10)\n"
          ],
          "name": "stdout"
        },
        {
          "output_type": "execute_result",
          "data": {
            "text/html": [
              "<div>\n",
              "<style scoped>\n",
              "    .dataframe tbody tr th:only-of-type {\n",
              "        vertical-align: middle;\n",
              "    }\n",
              "\n",
              "    .dataframe tbody tr th {\n",
              "        vertical-align: top;\n",
              "    }\n",
              "\n",
              "    .dataframe thead th {\n",
              "        text-align: right;\n",
              "    }\n",
              "</style>\n",
              "<table border=\"1\" class=\"dataframe\">\n",
              "  <thead>\n",
              "    <tr style=\"text-align: right;\">\n",
              "      <th></th>\n",
              "      <th>hour</th>\n",
              "      <th>min</th>\n",
              "      <th>max</th>\n",
              "      <th>var</th>\n",
              "      <th>count</th>\n",
              "      <th>first</th>\n",
              "      <th>last</th>\n",
              "      <th>score</th>\n",
              "      <th>darwin</th>\n",
              "      <th>return</th>\n",
              "    </tr>\n",
              "  </thead>\n",
              "  <tbody>\n",
              "    <tr>\n",
              "      <th>0</th>\n",
              "      <td>2020-08-02 21:00:00</td>\n",
              "      <td>126.4739</td>\n",
              "      <td>126.4739</td>\n",
              "      <td>0.000000</td>\n",
              "      <td>1</td>\n",
              "      <td>126.4739</td>\n",
              "      <td>126.4739</td>\n",
              "      <td>0.0000</td>\n",
              "      <td>BSX</td>\n",
              "      <td>0.0000</td>\n",
              "    </tr>\n",
              "    <tr>\n",
              "      <th>1</th>\n",
              "      <td>2020-08-03 20:00:00</td>\n",
              "      <td>126.4538</td>\n",
              "      <td>126.6039</td>\n",
              "      <td>0.000996</td>\n",
              "      <td>1506</td>\n",
              "      <td>126.4659</td>\n",
              "      <td>126.5240</td>\n",
              "      <td>1.8409</td>\n",
              "      <td>BSX</td>\n",
              "      <td>0.0581</td>\n",
              "    </tr>\n",
              "    <tr>\n",
              "      <th>2</th>\n",
              "      <td>2020-08-03 21:00:00</td>\n",
              "      <td>126.2886</td>\n",
              "      <td>126.7286</td>\n",
              "      <td>0.012971</td>\n",
              "      <td>57</td>\n",
              "      <td>126.4920</td>\n",
              "      <td>126.7286</td>\n",
              "      <td>2.0774</td>\n",
              "      <td>BSX</td>\n",
              "      <td>0.2366</td>\n",
              "    </tr>\n",
              "    <tr>\n",
              "      <th>3</th>\n",
              "      <td>2020-08-04 21:00:00</td>\n",
              "      <td>126.7286</td>\n",
              "      <td>126.7286</td>\n",
              "      <td>0.000000</td>\n",
              "      <td>1</td>\n",
              "      <td>126.7286</td>\n",
              "      <td>126.7286</td>\n",
              "      <td>0.0000</td>\n",
              "      <td>BSX</td>\n",
              "      <td>0.0000</td>\n",
              "    </tr>\n",
              "    <tr>\n",
              "      <th>4</th>\n",
              "      <td>2020-08-05 21:00:00</td>\n",
              "      <td>126.4861</td>\n",
              "      <td>126.8366</td>\n",
              "      <td>0.003487</td>\n",
              "      <td>543</td>\n",
              "      <td>126.7286</td>\n",
              "      <td>126.7779</td>\n",
              "      <td>0.8348</td>\n",
              "      <td>BSX</td>\n",
              "      <td>0.0493</td>\n",
              "    </tr>\n",
              "  </tbody>\n",
              "</table>\n",
              "</div>"
            ],
            "text/plain": [
              "                 hour       min       max  ...   score darwin  return\n",
              "0 2020-08-02 21:00:00  126.4739  126.4739  ...  0.0000    BSX  0.0000\n",
              "1 2020-08-03 20:00:00  126.4538  126.6039  ...  1.8409    BSX  0.0581\n",
              "2 2020-08-03 21:00:00  126.2886  126.7286  ...  2.0774    BSX  0.2366\n",
              "3 2020-08-04 21:00:00  126.7286  126.7286  ...  0.0000    BSX  0.0000\n",
              "4 2020-08-05 21:00:00  126.4861  126.8366  ...  0.8348    BSX  0.0493\n",
              "\n",
              "[5 rows x 10 columns]"
            ]
          },
          "metadata": {
            "tags": []
          },
          "execution_count": 23
        }
      ]
    },
    {
      "cell_type": "markdown",
      "metadata": {
        "id": "nfl-dxtkJ1H8"
      },
      "source": [
        "df de rendimientos por hora por cada darwin desde el 18 agosoto 2020 hasta el 24 diciembre 2020\n"
      ]
    },
    {
      "cell_type": "code",
      "metadata": {
        "id": "fYorT4Ugez5e",
        "colab": {
          "base_uri": "https://localhost:8080/"
        },
        "outputId": "ecf66586-400c-4517-daed-1769e378dd42"
      },
      "source": [
        "dars=sorted(hourly.darwin.unique())\n",
        "lst=[hourly[hourly.darwin==dar][(hourly.hour>='2020-08-18 00:00:00') & (hourly.hour<'2020-12-24 22:00:00')][['hour','return']].rename(columns={'return':dar}) for i,dar in enumerate(dars)]\n",
        "hly_rtns=pd.merge(lst[0], lst[1], how='outer')\n",
        "for i in range(2,len(dars)):\n",
        "  hly_rtns=pd.merge(hly_rtns,lst[i], how='outer')\n",
        "hly_rtns.fillna(0., inplace=True)\n",
        "hly_rtns.head()"
      ],
      "execution_count": null,
      "outputs": [
        {
          "output_type": "execute_result",
          "data": {
            "text/html": [
              "<div>\n",
              "<style scoped>\n",
              "    .dataframe tbody tr th:only-of-type {\n",
              "        vertical-align: middle;\n",
              "    }\n",
              "\n",
              "    .dataframe tbody tr th {\n",
              "        vertical-align: top;\n",
              "    }\n",
              "\n",
              "    .dataframe thead th {\n",
              "        text-align: right;\n",
              "    }\n",
              "</style>\n",
              "<table border=\"1\" class=\"dataframe\">\n",
              "  <thead>\n",
              "    <tr style=\"text-align: right;\">\n",
              "      <th></th>\n",
              "      <th>hour</th>\n",
              "      <th>ACY</th>\n",
              "      <th>AWW</th>\n",
              "      <th>AZG</th>\n",
              "      <th>BFS</th>\n",
              "      <th>BGN</th>\n",
              "      <th>BSX</th>\n",
              "      <th>BZC</th>\n",
              "      <th>CBY</th>\n",
              "      <th>CIS</th>\n",
              "      <th>EEY</th>\n",
              "      <th>EOP</th>\n",
              "      <th>FFV</th>\n",
              "      <th>FIR</th>\n",
              "      <th>FNM</th>\n",
              "      <th>FSK</th>\n",
              "      <th>GFJ</th>\n",
              "      <th>GGR</th>\n",
              "      <th>GRI</th>\n",
              "      <th>HCC</th>\n",
              "      <th>HEO</th>\n",
              "      <th>HQU</th>\n",
              "      <th>HZY</th>\n",
              "      <th>IDT</th>\n",
              "      <th>JTL</th>\n",
              "      <th>LEN</th>\n",
              "      <th>LHB</th>\n",
              "      <th>LUG</th>\n",
              "      <th>LWE</th>\n",
              "      <th>LWK</th>\n",
              "      <th>MCA</th>\n",
              "      <th>MET</th>\n",
              "      <th>MUF</th>\n",
              "      <th>NCT</th>\n",
              "      <th>NSC</th>\n",
              "      <th>NVL</th>\n",
              "      <th>NWO</th>\n",
              "      <th>NYD</th>\n",
              "      <th>OJG</th>\n",
              "      <th>OOS</th>\n",
              "      <th>OXR</th>\n",
              "      <th>PEW</th>\n",
              "      <th>PHI</th>\n",
              "      <th>PPT</th>\n",
              "      <th>PUL</th>\n",
              "      <th>RAT</th>\n",
              "      <th>REU</th>\n",
              "      <th>RWJ</th>\n",
              "      <th>SBY</th>\n",
              "      <th>SEH</th>\n",
              "      <th>SHC</th>\n",
              "      <th>SKI</th>\n",
              "      <th>SKN</th>\n",
              "      <th>SRI</th>\n",
              "      <th>SYO</th>\n",
              "      <th>TDD</th>\n",
              "      <th>TER</th>\n",
              "      <th>TKT</th>\n",
              "      <th>TRO</th>\n",
              "      <th>TXR</th>\n",
              "      <th>UEI</th>\n",
              "      <th>ULI</th>\n",
              "      <th>ULT</th>\n",
              "      <th>UYZ</th>\n",
              "      <th>VRT</th>\n",
              "      <th>VVC</th>\n",
              "      <th>WFJ</th>\n",
              "      <th>WWT</th>\n",
              "      <th>WXN</th>\n",
              "      <th>XRX</th>\n",
              "      <th>YEC</th>\n",
              "      <th>ZAB</th>\n",
              "      <th>ZCD</th>\n",
              "      <th>ZTY</th>\n",
              "      <th>ZUJ</th>\n",
              "      <th>ZVQ</th>\n",
              "      <th>ZXW</th>\n",
              "    </tr>\n",
              "  </thead>\n",
              "  <tbody>\n",
              "    <tr>\n",
              "      <th>0</th>\n",
              "      <td>2020-08-18 08:00:00</td>\n",
              "      <td>-0.2046</td>\n",
              "      <td>0.0280</td>\n",
              "      <td>-0.2541</td>\n",
              "      <td>0.0</td>\n",
              "      <td>0.0</td>\n",
              "      <td>0.0</td>\n",
              "      <td>0.0451</td>\n",
              "      <td>0.0764</td>\n",
              "      <td>0.0</td>\n",
              "      <td>0.0204</td>\n",
              "      <td>-0.1279</td>\n",
              "      <td>0.3504</td>\n",
              "      <td>0.0</td>\n",
              "      <td>0.0</td>\n",
              "      <td>0.0</td>\n",
              "      <td>-0.2471</td>\n",
              "      <td>0.0</td>\n",
              "      <td>-0.3225</td>\n",
              "      <td>0.4445</td>\n",
              "      <td>0.0</td>\n",
              "      <td>0.0</td>\n",
              "      <td>0.0</td>\n",
              "      <td>0.0</td>\n",
              "      <td>0.0</td>\n",
              "      <td>-0.4258</td>\n",
              "      <td>0.0</td>\n",
              "      <td>-0.3640</td>\n",
              "      <td>0.1924</td>\n",
              "      <td>0.1630</td>\n",
              "      <td>0.0907</td>\n",
              "      <td>-0.1216</td>\n",
              "      <td>0.0</td>\n",
              "      <td>0.0</td>\n",
              "      <td>0.2144</td>\n",
              "      <td>0.0</td>\n",
              "      <td>0.0</td>\n",
              "      <td>0.0</td>\n",
              "      <td>0.0</td>\n",
              "      <td>-0.1580</td>\n",
              "      <td>-0.2996</td>\n",
              "      <td>0.0</td>\n",
              "      <td>0.0</td>\n",
              "      <td>-0.0489</td>\n",
              "      <td>0.0347</td>\n",
              "      <td>0.0000</td>\n",
              "      <td>0.0</td>\n",
              "      <td>0.0</td>\n",
              "      <td>-0.1468</td>\n",
              "      <td>-0.2239</td>\n",
              "      <td>-0.5369</td>\n",
              "      <td>0.1110</td>\n",
              "      <td>0.0789</td>\n",
              "      <td>0.1928</td>\n",
              "      <td>0.3188</td>\n",
              "      <td>0.3515</td>\n",
              "      <td>-0.0600</td>\n",
              "      <td>0.0</td>\n",
              "      <td>-0.2799</td>\n",
              "      <td>0.0</td>\n",
              "      <td>0.0</td>\n",
              "      <td>0.0607</td>\n",
              "      <td>0.7122</td>\n",
              "      <td>0.0000</td>\n",
              "      <td>-0.1237</td>\n",
              "      <td>0.0</td>\n",
              "      <td>-0.3184</td>\n",
              "      <td>0.0</td>\n",
              "      <td>0.042</td>\n",
              "      <td>0.0</td>\n",
              "      <td>0.0125</td>\n",
              "      <td>-1.0387</td>\n",
              "      <td>0.0641</td>\n",
              "      <td>0.0</td>\n",
              "      <td>-0.1574</td>\n",
              "      <td>-0.0757</td>\n",
              "      <td>0.1344</td>\n",
              "    </tr>\n",
              "    <tr>\n",
              "      <th>1</th>\n",
              "      <td>2020-08-18 09:00:00</td>\n",
              "      <td>-0.7715</td>\n",
              "      <td>-0.0205</td>\n",
              "      <td>-0.0352</td>\n",
              "      <td>0.0</td>\n",
              "      <td>0.0</td>\n",
              "      <td>0.0</td>\n",
              "      <td>-0.0134</td>\n",
              "      <td>0.0346</td>\n",
              "      <td>0.0</td>\n",
              "      <td>0.0018</td>\n",
              "      <td>0.2048</td>\n",
              "      <td>0.2084</td>\n",
              "      <td>0.0</td>\n",
              "      <td>0.0</td>\n",
              "      <td>0.0</td>\n",
              "      <td>0.0683</td>\n",
              "      <td>0.0</td>\n",
              "      <td>0.0423</td>\n",
              "      <td>0.0228</td>\n",
              "      <td>0.0</td>\n",
              "      <td>0.0</td>\n",
              "      <td>0.0</td>\n",
              "      <td>0.0</td>\n",
              "      <td>0.0</td>\n",
              "      <td>0.1580</td>\n",
              "      <td>0.0</td>\n",
              "      <td>0.0246</td>\n",
              "      <td>0.0571</td>\n",
              "      <td>-0.0628</td>\n",
              "      <td>0.0239</td>\n",
              "      <td>-0.0345</td>\n",
              "      <td>0.0</td>\n",
              "      <td>0.0</td>\n",
              "      <td>-0.2015</td>\n",
              "      <td>0.0</td>\n",
              "      <td>0.0</td>\n",
              "      <td>0.0</td>\n",
              "      <td>0.0</td>\n",
              "      <td>-0.1657</td>\n",
              "      <td>0.2175</td>\n",
              "      <td>0.0</td>\n",
              "      <td>0.0</td>\n",
              "      <td>0.1492</td>\n",
              "      <td>0.0629</td>\n",
              "      <td>0.0000</td>\n",
              "      <td>0.0</td>\n",
              "      <td>0.0</td>\n",
              "      <td>-0.0538</td>\n",
              "      <td>-0.0820</td>\n",
              "      <td>0.0460</td>\n",
              "      <td>0.0350</td>\n",
              "      <td>0.1163</td>\n",
              "      <td>-0.0742</td>\n",
              "      <td>0.7048</td>\n",
              "      <td>0.1127</td>\n",
              "      <td>-0.0921</td>\n",
              "      <td>0.0</td>\n",
              "      <td>-0.5873</td>\n",
              "      <td>0.0</td>\n",
              "      <td>0.0</td>\n",
              "      <td>-0.0594</td>\n",
              "      <td>-0.2741</td>\n",
              "      <td>0.0000</td>\n",
              "      <td>0.0460</td>\n",
              "      <td>0.0</td>\n",
              "      <td>-0.6679</td>\n",
              "      <td>0.0</td>\n",
              "      <td>0.000</td>\n",
              "      <td>0.0</td>\n",
              "      <td>-0.0682</td>\n",
              "      <td>-0.2051</td>\n",
              "      <td>0.0091</td>\n",
              "      <td>0.0</td>\n",
              "      <td>0.0584</td>\n",
              "      <td>0.2911</td>\n",
              "      <td>0.0653</td>\n",
              "    </tr>\n",
              "    <tr>\n",
              "      <th>2</th>\n",
              "      <td>2020-08-18 10:00:00</td>\n",
              "      <td>-0.2072</td>\n",
              "      <td>-0.0200</td>\n",
              "      <td>0.1754</td>\n",
              "      <td>0.0</td>\n",
              "      <td>0.0</td>\n",
              "      <td>0.0</td>\n",
              "      <td>-0.0350</td>\n",
              "      <td>0.1176</td>\n",
              "      <td>0.0</td>\n",
              "      <td>0.0226</td>\n",
              "      <td>-0.1140</td>\n",
              "      <td>-0.4030</td>\n",
              "      <td>0.0</td>\n",
              "      <td>0.0</td>\n",
              "      <td>0.0</td>\n",
              "      <td>0.0297</td>\n",
              "      <td>0.0</td>\n",
              "      <td>0.1094</td>\n",
              "      <td>0.0920</td>\n",
              "      <td>0.0</td>\n",
              "      <td>0.0</td>\n",
              "      <td>0.0</td>\n",
              "      <td>0.0</td>\n",
              "      <td>0.0</td>\n",
              "      <td>0.0559</td>\n",
              "      <td>0.0</td>\n",
              "      <td>0.2155</td>\n",
              "      <td>0.0632</td>\n",
              "      <td>-0.0206</td>\n",
              "      <td>-0.0736</td>\n",
              "      <td>0.0585</td>\n",
              "      <td>0.0</td>\n",
              "      <td>0.0</td>\n",
              "      <td>-0.0541</td>\n",
              "      <td>0.0</td>\n",
              "      <td>0.0</td>\n",
              "      <td>0.0</td>\n",
              "      <td>0.0</td>\n",
              "      <td>0.0236</td>\n",
              "      <td>-0.0774</td>\n",
              "      <td>0.0</td>\n",
              "      <td>0.0</td>\n",
              "      <td>-0.0878</td>\n",
              "      <td>0.0000</td>\n",
              "      <td>0.0000</td>\n",
              "      <td>0.0</td>\n",
              "      <td>0.0</td>\n",
              "      <td>-0.0460</td>\n",
              "      <td>0.0943</td>\n",
              "      <td>0.4213</td>\n",
              "      <td>0.0459</td>\n",
              "      <td>-0.4226</td>\n",
              "      <td>-0.0244</td>\n",
              "      <td>0.0976</td>\n",
              "      <td>-0.1895</td>\n",
              "      <td>-0.0513</td>\n",
              "      <td>0.0</td>\n",
              "      <td>1.1642</td>\n",
              "      <td>0.0</td>\n",
              "      <td>0.0</td>\n",
              "      <td>-0.0903</td>\n",
              "      <td>-0.0901</td>\n",
              "      <td>-0.0284</td>\n",
              "      <td>0.0162</td>\n",
              "      <td>0.0</td>\n",
              "      <td>1.3240</td>\n",
              "      <td>0.0</td>\n",
              "      <td>0.000</td>\n",
              "      <td>0.0</td>\n",
              "      <td>0.0551</td>\n",
              "      <td>0.5658</td>\n",
              "      <td>-0.0328</td>\n",
              "      <td>0.0</td>\n",
              "      <td>0.0207</td>\n",
              "      <td>-0.1894</td>\n",
              "      <td>-0.1592</td>\n",
              "    </tr>\n",
              "    <tr>\n",
              "      <th>3</th>\n",
              "      <td>2020-08-18 11:00:00</td>\n",
              "      <td>0.5182</td>\n",
              "      <td>0.0139</td>\n",
              "      <td>0.0390</td>\n",
              "      <td>0.0</td>\n",
              "      <td>0.0</td>\n",
              "      <td>0.0</td>\n",
              "      <td>0.0380</td>\n",
              "      <td>-0.5722</td>\n",
              "      <td>0.0</td>\n",
              "      <td>0.0014</td>\n",
              "      <td>-0.2086</td>\n",
              "      <td>0.1120</td>\n",
              "      <td>0.0</td>\n",
              "      <td>0.0</td>\n",
              "      <td>0.0</td>\n",
              "      <td>-0.0700</td>\n",
              "      <td>0.0</td>\n",
              "      <td>-0.7223</td>\n",
              "      <td>0.0110</td>\n",
              "      <td>0.0</td>\n",
              "      <td>0.0</td>\n",
              "      <td>0.0</td>\n",
              "      <td>0.0</td>\n",
              "      <td>0.0</td>\n",
              "      <td>-0.1070</td>\n",
              "      <td>0.0</td>\n",
              "      <td>-0.4118</td>\n",
              "      <td>-0.0863</td>\n",
              "      <td>0.0421</td>\n",
              "      <td>-0.0578</td>\n",
              "      <td>-0.1186</td>\n",
              "      <td>0.0</td>\n",
              "      <td>0.0</td>\n",
              "      <td>0.1353</td>\n",
              "      <td>0.0</td>\n",
              "      <td>0.0</td>\n",
              "      <td>0.0</td>\n",
              "      <td>0.0</td>\n",
              "      <td>-0.1538</td>\n",
              "      <td>-0.2806</td>\n",
              "      <td>0.0</td>\n",
              "      <td>0.0</td>\n",
              "      <td>-0.0575</td>\n",
              "      <td>0.0000</td>\n",
              "      <td>0.0000</td>\n",
              "      <td>0.0</td>\n",
              "      <td>0.0</td>\n",
              "      <td>0.0459</td>\n",
              "      <td>0.2790</td>\n",
              "      <td>-0.6534</td>\n",
              "      <td>-0.0834</td>\n",
              "      <td>0.6474</td>\n",
              "      <td>0.0498</td>\n",
              "      <td>-0.2464</td>\n",
              "      <td>-0.1914</td>\n",
              "      <td>0.0224</td>\n",
              "      <td>0.0</td>\n",
              "      <td>-0.3642</td>\n",
              "      <td>0.0</td>\n",
              "      <td>0.0</td>\n",
              "      <td>-0.0455</td>\n",
              "      <td>0.1842</td>\n",
              "      <td>0.5276</td>\n",
              "      <td>-0.0311</td>\n",
              "      <td>0.0</td>\n",
              "      <td>-0.4142</td>\n",
              "      <td>0.0</td>\n",
              "      <td>0.000</td>\n",
              "      <td>0.0</td>\n",
              "      <td>-0.3371</td>\n",
              "      <td>0.3899</td>\n",
              "      <td>0.0122</td>\n",
              "      <td>0.0</td>\n",
              "      <td>-0.0396</td>\n",
              "      <td>0.1832</td>\n",
              "      <td>-0.0821</td>\n",
              "    </tr>\n",
              "    <tr>\n",
              "      <th>4</th>\n",
              "      <td>2020-08-18 12:00:00</td>\n",
              "      <td>3.4317</td>\n",
              "      <td>0.0743</td>\n",
              "      <td>-0.2758</td>\n",
              "      <td>0.0</td>\n",
              "      <td>0.0</td>\n",
              "      <td>0.0</td>\n",
              "      <td>0.0951</td>\n",
              "      <td>-0.2141</td>\n",
              "      <td>0.0</td>\n",
              "      <td>0.1189</td>\n",
              "      <td>-0.3103</td>\n",
              "      <td>0.3893</td>\n",
              "      <td>0.0</td>\n",
              "      <td>0.0</td>\n",
              "      <td>0.0</td>\n",
              "      <td>-0.3064</td>\n",
              "      <td>0.0</td>\n",
              "      <td>-0.6439</td>\n",
              "      <td>0.5604</td>\n",
              "      <td>0.0</td>\n",
              "      <td>0.0</td>\n",
              "      <td>0.0</td>\n",
              "      <td>0.0</td>\n",
              "      <td>0.0</td>\n",
              "      <td>-0.7154</td>\n",
              "      <td>0.0</td>\n",
              "      <td>-0.7258</td>\n",
              "      <td>0.5191</td>\n",
              "      <td>0.2783</td>\n",
              "      <td>0.1409</td>\n",
              "      <td>-0.2989</td>\n",
              "      <td>0.0</td>\n",
              "      <td>0.0</td>\n",
              "      <td>0.9024</td>\n",
              "      <td>0.0</td>\n",
              "      <td>0.0</td>\n",
              "      <td>0.0</td>\n",
              "      <td>0.0</td>\n",
              "      <td>0.2012</td>\n",
              "      <td>-0.3565</td>\n",
              "      <td>0.0</td>\n",
              "      <td>0.0</td>\n",
              "      <td>-0.0169</td>\n",
              "      <td>-0.0354</td>\n",
              "      <td>-0.0161</td>\n",
              "      <td>0.0</td>\n",
              "      <td>0.0</td>\n",
              "      <td>0.0484</td>\n",
              "      <td>0.1981</td>\n",
              "      <td>-0.4841</td>\n",
              "      <td>0.5091</td>\n",
              "      <td>0.6564</td>\n",
              "      <td>0.3292</td>\n",
              "      <td>0.6209</td>\n",
              "      <td>-0.2148</td>\n",
              "      <td>-0.0089</td>\n",
              "      <td>0.0</td>\n",
              "      <td>-1.0961</td>\n",
              "      <td>0.0</td>\n",
              "      <td>0.0</td>\n",
              "      <td>0.3504</td>\n",
              "      <td>0.7548</td>\n",
              "      <td>0.5344</td>\n",
              "      <td>-0.1306</td>\n",
              "      <td>0.0</td>\n",
              "      <td>-1.2466</td>\n",
              "      <td>0.0</td>\n",
              "      <td>0.000</td>\n",
              "      <td>0.0</td>\n",
              "      <td>0.2408</td>\n",
              "      <td>-1.1173</td>\n",
              "      <td>0.1225</td>\n",
              "      <td>0.0</td>\n",
              "      <td>-0.2655</td>\n",
              "      <td>0.7707</td>\n",
              "      <td>0.4010</td>\n",
              "    </tr>\n",
              "  </tbody>\n",
              "</table>\n",
              "</div>"
            ],
            "text/plain": [
              "                 hour     ACY     AWW     AZG  ...  ZTY     ZUJ     ZVQ     ZXW\n",
              "0 2020-08-18 08:00:00 -0.2046  0.0280 -0.2541  ...  0.0 -0.1574 -0.0757  0.1344\n",
              "1 2020-08-18 09:00:00 -0.7715 -0.0205 -0.0352  ...  0.0  0.0584  0.2911  0.0653\n",
              "2 2020-08-18 10:00:00 -0.2072 -0.0200  0.1754  ...  0.0  0.0207 -0.1894 -0.1592\n",
              "3 2020-08-18 11:00:00  0.5182  0.0139  0.0390  ...  0.0 -0.0396  0.1832 -0.0821\n",
              "4 2020-08-18 12:00:00  3.4317  0.0743 -0.2758  ...  0.0 -0.2655  0.7707  0.4010\n",
              "\n",
              "[5 rows x 77 columns]"
            ]
          },
          "metadata": {
            "tags": []
          },
          "execution_count": 24
        }
      ]
    },
    {
      "cell_type": "markdown",
      "metadata": {
        "id": "2kuVO0UrJ55x"
      },
      "source": [
        "darwins con el rendimiento medio por hora más alto\n"
      ]
    },
    {
      "cell_type": "code",
      "metadata": {
        "id": "bI1GI2AsTXYn",
        "colab": {
          "base_uri": "https://localhost:8080/"
        },
        "outputId": "84d0ccb5-fdc3-4af8-c34c-77e485ae40d1"
      },
      "source": [
        "means=pd.DataFrame(hly_rtns.mean(0), columns=['mean'])\n",
        "means.sort_values('mean', ascending=False).T"
      ],
      "execution_count": null,
      "outputs": [
        {
          "output_type": "stream",
          "text": [
            "/usr/local/lib/python3.7/dist-packages/ipykernel_launcher.py:2: FutureWarning: DataFrame.mean and DataFrame.median with numeric_only=None will include datetime64 and datetime64tz columns in a future version.\n",
            "  \n"
          ],
          "name": "stderr"
        },
        {
          "output_type": "execute_result",
          "data": {
            "text/html": [
              "<div>\n",
              "<style scoped>\n",
              "    .dataframe tbody tr th:only-of-type {\n",
              "        vertical-align: middle;\n",
              "    }\n",
              "\n",
              "    .dataframe tbody tr th {\n",
              "        vertical-align: top;\n",
              "    }\n",
              "\n",
              "    .dataframe thead th {\n",
              "        text-align: right;\n",
              "    }\n",
              "</style>\n",
              "<table border=\"1\" class=\"dataframe\">\n",
              "  <thead>\n",
              "    <tr style=\"text-align: right;\">\n",
              "      <th></th>\n",
              "      <th>ZVQ</th>\n",
              "      <th>AZG</th>\n",
              "      <th>BFS</th>\n",
              "      <th>WFJ</th>\n",
              "      <th>JTL</th>\n",
              "      <th>HZY</th>\n",
              "      <th>PHI</th>\n",
              "      <th>NWO</th>\n",
              "      <th>ZCD</th>\n",
              "      <th>BGN</th>\n",
              "      <th>UYZ</th>\n",
              "      <th>TKT</th>\n",
              "      <th>SRI</th>\n",
              "      <th>EOP</th>\n",
              "      <th>PUL</th>\n",
              "      <th>ZAB</th>\n",
              "      <th>CBY</th>\n",
              "      <th>SEH</th>\n",
              "      <th>HEO</th>\n",
              "      <th>TXR</th>\n",
              "      <th>MUF</th>\n",
              "      <th>FIR</th>\n",
              "      <th>UEI</th>\n",
              "      <th>HCC</th>\n",
              "      <th>VRT</th>\n",
              "      <th>LHB</th>\n",
              "      <th>LEN</th>\n",
              "      <th>RAT</th>\n",
              "      <th>NVL</th>\n",
              "      <th>LUG</th>\n",
              "      <th>NCT</th>\n",
              "      <th>NSC</th>\n",
              "      <th>PEW</th>\n",
              "      <th>EEY</th>\n",
              "      <th>OJG</th>\n",
              "      <th>VVC</th>\n",
              "      <th>ACY</th>\n",
              "      <th>BSX</th>\n",
              "      <th>TER</th>\n",
              "      <th>IDT</th>\n",
              "      <th>ZTY</th>\n",
              "      <th>REU</th>\n",
              "      <th>MCA</th>\n",
              "      <th>ULI</th>\n",
              "      <th>NYD</th>\n",
              "      <th>FNM</th>\n",
              "      <th>XRX</th>\n",
              "      <th>HQU</th>\n",
              "      <th>ZUJ</th>\n",
              "      <th>YEC</th>\n",
              "      <th>RWJ</th>\n",
              "      <th>PPT</th>\n",
              "      <th>OXR</th>\n",
              "      <th>FSK</th>\n",
              "      <th>TRO</th>\n",
              "      <th>GRI</th>\n",
              "      <th>WWT</th>\n",
              "      <th>ULT</th>\n",
              "      <th>SKN</th>\n",
              "      <th>MET</th>\n",
              "      <th>WXN</th>\n",
              "      <th>LWK</th>\n",
              "      <th>FFV</th>\n",
              "      <th>GFJ</th>\n",
              "      <th>OOS</th>\n",
              "      <th>GGR</th>\n",
              "      <th>SBY</th>\n",
              "      <th>ZXW</th>\n",
              "      <th>SHC</th>\n",
              "      <th>AWW</th>\n",
              "      <th>SYO</th>\n",
              "      <th>LWE</th>\n",
              "      <th>SKI</th>\n",
              "      <th>TDD</th>\n",
              "      <th>BZC</th>\n",
              "      <th>CIS</th>\n",
              "    </tr>\n",
              "  </thead>\n",
              "  <tbody>\n",
              "    <tr>\n",
              "      <th>mean</th>\n",
              "      <td>0.016565</td>\n",
              "      <td>0.013742</td>\n",
              "      <td>0.012682</td>\n",
              "      <td>0.012105</td>\n",
              "      <td>0.011587</td>\n",
              "      <td>0.011354</td>\n",
              "      <td>0.011118</td>\n",
              "      <td>0.010866</td>\n",
              "      <td>0.009491</td>\n",
              "      <td>0.009225</td>\n",
              "      <td>0.008431</td>\n",
              "      <td>0.008265</td>\n",
              "      <td>0.007448</td>\n",
              "      <td>0.007073</td>\n",
              "      <td>0.006668</td>\n",
              "      <td>0.006646</td>\n",
              "      <td>0.006444</td>\n",
              "      <td>0.006398</td>\n",
              "      <td>0.006105</td>\n",
              "      <td>0.006048</td>\n",
              "      <td>0.005723</td>\n",
              "      <td>0.005046</td>\n",
              "      <td>0.004573</td>\n",
              "      <td>0.004247</td>\n",
              "      <td>0.004117</td>\n",
              "      <td>0.004057</td>\n",
              "      <td>0.003757</td>\n",
              "      <td>0.003454</td>\n",
              "      <td>0.003395</td>\n",
              "      <td>0.003355</td>\n",
              "      <td>0.003305</td>\n",
              "      <td>0.003144</td>\n",
              "      <td>0.002914</td>\n",
              "      <td>0.002684</td>\n",
              "      <td>0.002597</td>\n",
              "      <td>0.002502</td>\n",
              "      <td>0.002462</td>\n",
              "      <td>0.002205</td>\n",
              "      <td>0.001809</td>\n",
              "      <td>0.001796</td>\n",
              "      <td>0.001619</td>\n",
              "      <td>0.001504</td>\n",
              "      <td>0.001236</td>\n",
              "      <td>0.001217</td>\n",
              "      <td>0.001191</td>\n",
              "      <td>0.001183</td>\n",
              "      <td>0.001126</td>\n",
              "      <td>0.001087</td>\n",
              "      <td>0.000908</td>\n",
              "      <td>0.000843</td>\n",
              "      <td>0.000571</td>\n",
              "      <td>0.00055</td>\n",
              "      <td>0.000469</td>\n",
              "      <td>0.000154</td>\n",
              "      <td>0.000086</td>\n",
              "      <td>0.00008</td>\n",
              "      <td>0.000067</td>\n",
              "      <td>-0.000287</td>\n",
              "      <td>-0.001176</td>\n",
              "      <td>-0.00143</td>\n",
              "      <td>-0.002289</td>\n",
              "      <td>-0.002452</td>\n",
              "      <td>-0.003837</td>\n",
              "      <td>-0.004461</td>\n",
              "      <td>-0.004783</td>\n",
              "      <td>-0.005201</td>\n",
              "      <td>-0.00663</td>\n",
              "      <td>-0.006832</td>\n",
              "      <td>-0.007273</td>\n",
              "      <td>-0.009089</td>\n",
              "      <td>-0.009591</td>\n",
              "      <td>-0.010118</td>\n",
              "      <td>-0.011254</td>\n",
              "      <td>-0.01147</td>\n",
              "      <td>-0.016548</td>\n",
              "      <td>-0.017419</td>\n",
              "    </tr>\n",
              "  </tbody>\n",
              "</table>\n",
              "</div>"
            ],
            "text/plain": [
              "           ZVQ       AZG       BFS  ...      TDD       BZC       CIS\n",
              "mean  0.016565  0.013742  0.012682  ... -0.01147 -0.016548 -0.017419\n",
              "\n",
              "[1 rows x 76 columns]"
            ]
          },
          "metadata": {
            "tags": []
          },
          "execution_count": 25
        }
      ]
    },
    {
      "cell_type": "markdown",
      "metadata": {
        "id": "vnF48Ue3AcpN"
      },
      "source": [
        "### Historial de envíos\n",
        "\n",
        "\n"
      ]
    },
    {
      "cell_type": "code",
      "metadata": {
        "id": "nxXKG3LYvrtg",
        "colab": {
          "base_uri": "https://localhost:8080/",
          "height": 504
        },
        "outputId": "8580aa2c-814e-405c-8353-eb250ba2a9e5"
      },
      "source": [
        "results=[1.72, 1.58, 4.71, 1.7, 4.69, 4.81, 5.38, 5.29, 5.82, 6.18, 6.81, 6.72, 6.70, 6.81, 7.15, 7.94, 7.87, 7.79, 7.08, 7.98, 8.33, 8.29, 8.24, 8.17, 7.99, 8.18, 8.24]\n",
        "# quitando resultados NAN cuando la suma de la fila no era exactamente 1.0\n",
        "fig, ax = plt.subplots(1, 1, figsize=(15, 8))\n",
        "ax.plot(results, color='#ffe599')\n",
        "ax.set_title('Historial de envíos', fontsize=20)\n",
        "ax.set_xlabel('Envío', fontsize=14)\n",
        "ax.set_ylabel('CodaLab Leaderboard', fontsize=14)\n",
        "ax.set_ylim(0,10)\n",
        "ax.annotate('8.33', xy=(20, 8.33),  xycoords='data',\n",
        "            xytext=(0.8, 0.95), textcoords='axes fraction',\n",
        "            arrowprops=dict(facecolor='black', shrink=0.05),\n",
        "            horizontalalignment='right', verticalalignment='top',\n",
        "            fontsize=14\n",
        "            )\n",
        "ax.axvline(x=20, ymin=0, ymax=1, color='red', alpha=.5, linestyle='dotted')\n",
        "ax.axhline(y=2, xmin=0, xmax=1, color='orange', alpha=.5, linestyle='dotted')\n",
        "ax.axhline(y=4, xmin=0, xmax=1, color='orange', alpha=.5, linestyle='dotted')\n",
        "ax.axhline(y=6, xmin=0, xmax=1, color='orange', alpha=.5, linestyle='dotted')\n",
        "ax.axhline(y=8, xmin=0, xmax=1, color='orange', alpha=.5, linestyle='dotted')\n",
        "\n",
        "for i, label in enumerate(range(27)):\n",
        "    ax.annotate(label, (i, results[i]+.1));\n",
        "\n",
        "plt.savefig('envios.png')"
      ],
      "execution_count": 4,
      "outputs": [
        {
          "output_type": "display_data",
          "data": {
            "image/png": "[encoded data removed]",
            "text/plain": [
              "<Figure size 1080x576 with 1 Axes>"
            ]
          },
          "metadata": {
            "tags": [],
            "needs_background": "light"
          }
        }
      ]
    },
    {
      "cell_type": "markdown",
      "metadata": {
        "id": "Svjxoi_KdrzT"
      },
      "source": [
        "- 2 - asignar a cada `darwin` 1/18 de la inversión, sin cambiar al largo del tiempo: 'ysharpe_ratio': 4.71, 'cumulative_return': 4.92\n",
        "\n",
        "- 6 - agrupar los 18 `darwins` en 3 grupos: bajo, medio y alto rendimiento. Menor peso por los bajos, más peso por los altos. 'ysharpe_ratio': 5.38, 'cumulative_return': 5.97\n",
        "\n",
        "- 10 - https://es.mathworks.com/help/finance/portfolio.estimatemaxsharperatio.html?s_tid=srchtitle con MATLAB instalado en el PC, quitando FNM, MET, NVL, REU, VRT y añadiendo ZTY, NYD, TKT, NWO, YEC. Optimizar en MATLAB.\n",
        "\n",
        "- 15 - 3 rondas de top 22 `darwins` y luegor quitar 4\n",
        "\n",
        "- 20 - descargar datos por más `darwins`"
      ]
    },
    {
      "cell_type": "markdown",
      "metadata": {
        "id": "x1q6OCHiyD8m"
      },
      "source": [
        "Coge los primeros 22 Darwins del listado y pone sus medios de `return`,`AssetMean` y covarianzas `AssetCovar` en MATLAB https://www.mathworks.com/help/finance/portfolio.estimatemaxsharperatio.html \n",
        "\n",
        "‘Estimate Efficient Portfolio that Maximizes the Sharpe Ratio for a Portfolio Object with Semicontinuous and Cardinality Constraints’, \n",
        "\n",
        "para seleccionar los mejores 18 activos de los 22. (Con más de 22 activos muchas veces no daba `pesos` porque no convergió.)\n",
        "\n",
        "```\n",
        "p = Portfolio('AssetMean', AssetMean, 'AssetCovar', AssetCovar);\n",
        "p = setDefaultConstraints(p); \n",
        "p = setMinMaxNumAssets(p, 18, 18); \n",
        "pesos = estimateMaxSharpeRatio(p,'Method','iterative')\n",
        "````"
      ]
    },
    {
      "cell_type": "markdown",
      "metadata": {
        "id": "zJxvsgWx0S16"
      },
      "source": [
        "Seguí bajando el listado de `darwins` quitando los 4 `darwins` dejado el el rondo anterior y añadiendo 4 más para ver si mejoraba el resultado.\n",
        "\n",
        "Si el resultado era mejor, lo puse en el `Leaderboard`."
      ]
    },
    {
      "cell_type": "markdown",
      "metadata": {
        "id": "kGK3jcNszzHB"
      },
      "source": [
        "### Mi envío ganador"
      ]
    },
    {
      "cell_type": "code",
      "metadata": {
        "colab": {
          "base_uri": "https://localhost:8080/",
          "height": 482
        },
        "id": "04xEm6V4RjmF",
        "outputId": "069907f4-d0c1-4b8e-d401-864469759d9e"
      },
      "source": [
        "#833\n",
        "dars=['AZG','BFS','FSK','JTL','LUG','MUF','NCT','NWO','PEW','PHI','PUL','TER','TXR','UEI','UYZ','WWT','XRX','ZCD']\n",
        "wts=[0.0061,0.0109,0.1885,0.0079,0.0157,0.0077,0.019,0.0084,0.0046,0.0056,0.0099000000000001,0.0064,0.0153,0.0062,0.0026,0.65,0.0134,0.0218]\n",
        "\n",
        "fig , ax = plt.subplots(nrows = 6, ncols = 3, figsize=(20, 8))\n",
        "rows,cols = 6,3\n",
        "for i in range(rows):\n",
        "  for j in range(cols):\n",
        "    darwin=dars[cols*i+j]\n",
        "    wt=' '+str(wts[cols*i+j]*100)[:5]+'%'\n",
        "    ax[i][j].plot(range(len(hourly[hourly.darwin==darwin])),hourly[hourly.darwin==darwin]['first']-hourly[hourly.darwin==darwin]['first'].to_list()[0], color='#ffd966')\n",
        "    ax[i][j].set_ylim(-35,50)\n",
        "    ax[i][j].set_title(darwin+wt)\n",
        "    ax[i][j].set_frame_on(False)\n",
        "    ax[i][j].axes.get_xaxis().set_visible(False)\n",
        "    ax[i][j].axhline(y=0, color='grey', linestyle='dotted')"
      ],
      "execution_count": null,
      "outputs": [
        {
          "output_type": "display_data",
          "data": {
            "image/png": "[encoded data removed]",
            "text/plain": [
              "<Figure size 1440x576 with 18 Axes>"
            ]
          },
          "metadata": {
            "tags": [],
            "needs_background": "light"
          }
        }
      ]
    },
    {
      "cell_type": "markdown",
      "metadata": {
        "id": "sxDe6h1Oqxwr"
      },
      "source": [
        "### Crea archivo de envío"
      ]
    },
    {
      "cell_type": "code",
      "metadata": {
        "colab": {
          "base_uri": "https://localhost:8080/",
          "height": 413
        },
        "id": "w91mSnmTlM0J",
        "outputId": "a1a9aeeb-0838-4aa6-f1d4-c23589d3109f"
      },
      "source": [
        "\n",
        "# get 'eod_ts' from the example submission file\n",
        "sub=pd.read_csv('./data/submission.csv')\n",
        "sub.eod_ts = pd.to_datetime(sub.eod_ts)\n",
        "\n",
        "# create new submission file\n",
        "new_sub=pd.DataFrame(columns=dars)\n",
        "new_sub['eod_ts']=sub.eod_ts\n",
        "new_sub.set_index('eod_ts', inplace=True)\n",
        "\n",
        "# % allocation for each darwin\n",
        "for i,dar in enumerate(dars):\n",
        "  new_sub[dar]=wts[i]\n",
        "\n",
        "# check that all rows sum to 1.0\n",
        "print(new_sub[dars].sum(1).sum())\n",
        "assert new_sub[dars].sum(1).sum()==len(sub) \n",
        "\n",
        "# rename columns\n",
        "for col in new_sub.columns:\n",
        "  new_sub=new_sub.rename(columns={col:'allo_'+col})\n",
        "\n",
        "# save submission file\n",
        "new_sub.reset_index(inplace=True)\n",
        "new_sub.to_csv('./data/sub.csv',index=False)\n",
        "new_sub.head()"
      ],
      "execution_count": null,
      "outputs": [
        {
          "output_type": "stream",
          "text": [
            "2229.0\n"
          ],
          "name": "stdout"
        },
        {
          "output_type": "execute_result",
          "data": {
            "text/html": [
              "<div>\n",
              "<style scoped>\n",
              "    .dataframe tbody tr th:only-of-type {\n",
              "        vertical-align: middle;\n",
              "    }\n",
              "\n",
              "    .dataframe tbody tr th {\n",
              "        vertical-align: top;\n",
              "    }\n",
              "\n",
              "    .dataframe thead th {\n",
              "        text-align: right;\n",
              "    }\n",
              "</style>\n",
              "<table border=\"1\" class=\"dataframe\">\n",
              "  <thead>\n",
              "    <tr style=\"text-align: right;\">\n",
              "      <th></th>\n",
              "      <th>eod_ts</th>\n",
              "      <th>allo_AZG</th>\n",
              "      <th>allo_BFS</th>\n",
              "      <th>allo_FSK</th>\n",
              "      <th>allo_JTL</th>\n",
              "      <th>allo_LUG</th>\n",
              "      <th>allo_MUF</th>\n",
              "      <th>allo_NCT</th>\n",
              "      <th>allo_NWO</th>\n",
              "      <th>allo_PEW</th>\n",
              "      <th>allo_PHI</th>\n",
              "      <th>allo_PUL</th>\n",
              "      <th>allo_TER</th>\n",
              "      <th>allo_TXR</th>\n",
              "      <th>allo_UEI</th>\n",
              "      <th>allo_UYZ</th>\n",
              "      <th>allo_WWT</th>\n",
              "      <th>allo_XRX</th>\n",
              "      <th>allo_ZCD</th>\n",
              "    </tr>\n",
              "  </thead>\n",
              "  <tbody>\n",
              "    <tr>\n",
              "      <th>0</th>\n",
              "      <td>2020-08-18 00:00:00</td>\n",
              "      <td>0.0061</td>\n",
              "      <td>0.0109</td>\n",
              "      <td>0.1885</td>\n",
              "      <td>0.0079</td>\n",
              "      <td>0.0157</td>\n",
              "      <td>0.0077</td>\n",
              "      <td>0.019</td>\n",
              "      <td>0.0084</td>\n",
              "      <td>0.0046</td>\n",
              "      <td>0.0056</td>\n",
              "      <td>0.0099</td>\n",
              "      <td>0.0064</td>\n",
              "      <td>0.0153</td>\n",
              "      <td>0.0062</td>\n",
              "      <td>0.0026</td>\n",
              "      <td>0.65</td>\n",
              "      <td>0.0134</td>\n",
              "      <td>0.0218</td>\n",
              "    </tr>\n",
              "    <tr>\n",
              "      <th>1</th>\n",
              "      <td>2020-08-18 01:00:00</td>\n",
              "      <td>0.0061</td>\n",
              "      <td>0.0109</td>\n",
              "      <td>0.1885</td>\n",
              "      <td>0.0079</td>\n",
              "      <td>0.0157</td>\n",
              "      <td>0.0077</td>\n",
              "      <td>0.019</td>\n",
              "      <td>0.0084</td>\n",
              "      <td>0.0046</td>\n",
              "      <td>0.0056</td>\n",
              "      <td>0.0099</td>\n",
              "      <td>0.0064</td>\n",
              "      <td>0.0153</td>\n",
              "      <td>0.0062</td>\n",
              "      <td>0.0026</td>\n",
              "      <td>0.65</td>\n",
              "      <td>0.0134</td>\n",
              "      <td>0.0218</td>\n",
              "    </tr>\n",
              "    <tr>\n",
              "      <th>2</th>\n",
              "      <td>2020-08-18 02:00:00</td>\n",
              "      <td>0.0061</td>\n",
              "      <td>0.0109</td>\n",
              "      <td>0.1885</td>\n",
              "      <td>0.0079</td>\n",
              "      <td>0.0157</td>\n",
              "      <td>0.0077</td>\n",
              "      <td>0.019</td>\n",
              "      <td>0.0084</td>\n",
              "      <td>0.0046</td>\n",
              "      <td>0.0056</td>\n",
              "      <td>0.0099</td>\n",
              "      <td>0.0064</td>\n",
              "      <td>0.0153</td>\n",
              "      <td>0.0062</td>\n",
              "      <td>0.0026</td>\n",
              "      <td>0.65</td>\n",
              "      <td>0.0134</td>\n",
              "      <td>0.0218</td>\n",
              "    </tr>\n",
              "    <tr>\n",
              "      <th>3</th>\n",
              "      <td>2020-08-18 03:00:00</td>\n",
              "      <td>0.0061</td>\n",
              "      <td>0.0109</td>\n",
              "      <td>0.1885</td>\n",
              "      <td>0.0079</td>\n",
              "      <td>0.0157</td>\n",
              "      <td>0.0077</td>\n",
              "      <td>0.019</td>\n",
              "      <td>0.0084</td>\n",
              "      <td>0.0046</td>\n",
              "      <td>0.0056</td>\n",
              "      <td>0.0099</td>\n",
              "      <td>0.0064</td>\n",
              "      <td>0.0153</td>\n",
              "      <td>0.0062</td>\n",
              "      <td>0.0026</td>\n",
              "      <td>0.65</td>\n",
              "      <td>0.0134</td>\n",
              "      <td>0.0218</td>\n",
              "    </tr>\n",
              "    <tr>\n",
              "      <th>4</th>\n",
              "      <td>2020-08-18 04:00:00</td>\n",
              "      <td>0.0061</td>\n",
              "      <td>0.0109</td>\n",
              "      <td>0.1885</td>\n",
              "      <td>0.0079</td>\n",
              "      <td>0.0157</td>\n",
              "      <td>0.0077</td>\n",
              "      <td>0.019</td>\n",
              "      <td>0.0084</td>\n",
              "      <td>0.0046</td>\n",
              "      <td>0.0056</td>\n",
              "      <td>0.0099</td>\n",
              "      <td>0.0064</td>\n",
              "      <td>0.0153</td>\n",
              "      <td>0.0062</td>\n",
              "      <td>0.0026</td>\n",
              "      <td>0.65</td>\n",
              "      <td>0.0134</td>\n",
              "      <td>0.0218</td>\n",
              "    </tr>\n",
              "  </tbody>\n",
              "</table>\n",
              "</div>"
            ],
            "text/plain": [
              "               eod_ts  allo_AZG  allo_BFS  ...  allo_WWT  allo_XRX  allo_ZCD\n",
              "0 2020-08-18 00:00:00    0.0061    0.0109  ...      0.65    0.0134    0.0218\n",
              "1 2020-08-18 01:00:00    0.0061    0.0109  ...      0.65    0.0134    0.0218\n",
              "2 2020-08-18 02:00:00    0.0061    0.0109  ...      0.65    0.0134    0.0218\n",
              "3 2020-08-18 03:00:00    0.0061    0.0109  ...      0.65    0.0134    0.0218\n",
              "4 2020-08-18 04:00:00    0.0061    0.0109  ...      0.65    0.0134    0.0218\n",
              "\n",
              "[5 rows x 19 columns]"
            ]
          },
          "metadata": {
            "tags": []
          },
          "execution_count": 29
        }
      ]
    },
    {
      "cell_type": "markdown",
      "metadata": {
        "id": "Tj8CjJjATUwg"
      },
      "source": [
        "# Relato: Lo que me debería haber hecho\n",
        "\n",
        "> If ifs and ands were pots and pans...\n",
        "\n"
      ]
    },
    {
      "cell_type": "markdown",
      "metadata": {
        "id": "yNLBFpzR6r-X"
      },
      "source": [
        "### **¡Recuerde: el rendimiento pasado no es una guía para el futuro!** \n",
        "\n",
        "Con los datos de Agosto 2020 a Diciembre 2020 descargado, no hace falta mirar los `darwins` con buen rendimiento anterior: hay que mirar el rendimiento de los `darwins` de Agosto 2020 a Diciembre 2020"
      ]
    },
    {
      "cell_type": "markdown",
      "metadata": {
        "id": "bA0xBTej-OFJ"
      },
      "source": [
        "### Descarga **todos** los datos de cotizaciones"
      ]
    },
    {
      "cell_type": "code",
      "metadata": {
        "colab": {
          "base_uri": "https://localhost:8080/"
        },
        "id": "nz1LAPluEqDS",
        "outputId": "b92a14e2-2377-46f4-a21b-f1b4b7e06701"
      },
      "source": [
        "len(darwins_lst)"
      ],
      "execution_count": null,
      "outputs": [
        {
          "output_type": "execute_result",
          "data": {
            "text/plain": [
              "96"
            ]
          },
          "metadata": {
            "tags": []
          },
          "execution_count": 30
        }
      ]
    },
    {
      "cell_type": "code",
      "metadata": {
        "colab": {
          "base_uri": "https://localhost:8080/",
          "height": 219
        },
        "id": "Y0-qlKjkDdX0",
        "outputId": "d51f7611-dc7a-4329-cdf8-b85ce69741d9"
      },
      "source": [
        "hourly = pd.DataFrame(columns=['min','max','var','count','first','last','score','darwin'])\n",
        "for darwin in darwins_lst:\n",
        "  for filename in [darwin+'_2020_08_quotes.csv',\n",
        "                   darwin+'_2020_09_quotes.csv',\n",
        "                   darwin+'_2020_10_quotes.csv',\n",
        "                   darwin+'_2020_11_quotes.csv',\n",
        "                   darwin+'_2020_12_quotes.csv']:\n",
        "    hourly=hourly.append(create_hourly(filename, darwin))\n",
        "\n",
        "hourly['score']=round((hourly['last']-hourly['first'])/np.sqrt(hourly['var']),4).fillna(0)\n",
        "hourly['return']=hourly['last']-hourly['first']\n",
        "\n",
        "hourly.reset_index(inplace=True)\n",
        "hourly.rename(columns={'index':'hour'},inplace=True)\n",
        "hourly.hour=hourly.hour.apply(lambda x: pd.Timestamp(x[0])+pd.to_timedelta(x[1], unit='h'))\n",
        "\n",
        "print(hourly.shape)\n",
        "hourly.head()"
      ],
      "execution_count": null,
      "outputs": [
        {
          "output_type": "stream",
          "text": [
            "(130910, 10)\n"
          ],
          "name": "stdout"
        },
        {
          "output_type": "execute_result",
          "data": {
            "text/html": [
              "<div>\n",
              "<style scoped>\n",
              "    .dataframe tbody tr th:only-of-type {\n",
              "        vertical-align: middle;\n",
              "    }\n",
              "\n",
              "    .dataframe tbody tr th {\n",
              "        vertical-align: top;\n",
              "    }\n",
              "\n",
              "    .dataframe thead th {\n",
              "        text-align: right;\n",
              "    }\n",
              "</style>\n",
              "<table border=\"1\" class=\"dataframe\">\n",
              "  <thead>\n",
              "    <tr style=\"text-align: right;\">\n",
              "      <th></th>\n",
              "      <th>hour</th>\n",
              "      <th>min</th>\n",
              "      <th>max</th>\n",
              "      <th>var</th>\n",
              "      <th>count</th>\n",
              "      <th>first</th>\n",
              "      <th>last</th>\n",
              "      <th>score</th>\n",
              "      <th>darwin</th>\n",
              "      <th>return</th>\n",
              "    </tr>\n",
              "  </thead>\n",
              "  <tbody>\n",
              "    <tr>\n",
              "      <th>0</th>\n",
              "      <td>2020-08-02 21:00:00</td>\n",
              "      <td>126.4739</td>\n",
              "      <td>126.4739</td>\n",
              "      <td>0.000000</td>\n",
              "      <td>1</td>\n",
              "      <td>126.4739</td>\n",
              "      <td>126.4739</td>\n",
              "      <td>0.0000</td>\n",
              "      <td>BSX</td>\n",
              "      <td>0.0000</td>\n",
              "    </tr>\n",
              "    <tr>\n",
              "      <th>1</th>\n",
              "      <td>2020-08-03 20:00:00</td>\n",
              "      <td>126.4538</td>\n",
              "      <td>126.6039</td>\n",
              "      <td>0.000996</td>\n",
              "      <td>1506</td>\n",
              "      <td>126.4659</td>\n",
              "      <td>126.5240</td>\n",
              "      <td>1.8409</td>\n",
              "      <td>BSX</td>\n",
              "      <td>0.0581</td>\n",
              "    </tr>\n",
              "    <tr>\n",
              "      <th>2</th>\n",
              "      <td>2020-08-03 21:00:00</td>\n",
              "      <td>126.2886</td>\n",
              "      <td>126.7286</td>\n",
              "      <td>0.012971</td>\n",
              "      <td>57</td>\n",
              "      <td>126.4920</td>\n",
              "      <td>126.7286</td>\n",
              "      <td>2.0774</td>\n",
              "      <td>BSX</td>\n",
              "      <td>0.2366</td>\n",
              "    </tr>\n",
              "    <tr>\n",
              "      <th>3</th>\n",
              "      <td>2020-08-04 21:00:00</td>\n",
              "      <td>126.7286</td>\n",
              "      <td>126.7286</td>\n",
              "      <td>0.000000</td>\n",
              "      <td>1</td>\n",
              "      <td>126.7286</td>\n",
              "      <td>126.7286</td>\n",
              "      <td>0.0000</td>\n",
              "      <td>BSX</td>\n",
              "      <td>0.0000</td>\n",
              "    </tr>\n",
              "    <tr>\n",
              "      <th>4</th>\n",
              "      <td>2020-08-05 21:00:00</td>\n",
              "      <td>126.4861</td>\n",
              "      <td>126.8366</td>\n",
              "      <td>0.003487</td>\n",
              "      <td>543</td>\n",
              "      <td>126.7286</td>\n",
              "      <td>126.7779</td>\n",
              "      <td>0.8348</td>\n",
              "      <td>BSX</td>\n",
              "      <td>0.0493</td>\n",
              "    </tr>\n",
              "  </tbody>\n",
              "</table>\n",
              "</div>"
            ],
            "text/plain": [
              "                 hour       min       max  ...   score darwin  return\n",
              "0 2020-08-02 21:00:00  126.4739  126.4739  ...  0.0000    BSX  0.0000\n",
              "1 2020-08-03 20:00:00  126.4538  126.6039  ...  1.8409    BSX  0.0581\n",
              "2 2020-08-03 21:00:00  126.2886  126.7286  ...  2.0774    BSX  0.2366\n",
              "3 2020-08-04 21:00:00  126.7286  126.7286  ...  0.0000    BSX  0.0000\n",
              "4 2020-08-05 21:00:00  126.4861  126.8366  ...  0.8348    BSX  0.0493\n",
              "\n",
              "[5 rows x 10 columns]"
            ]
          },
          "metadata": {
            "tags": []
          },
          "execution_count": 31
        }
      ]
    },
    {
      "cell_type": "code",
      "metadata": {
        "colab": {
          "base_uri": "https://localhost:8080/",
          "height": 425
        },
        "id": "fAe00ZyVEojd",
        "outputId": "caba0ea3-c004-486b-b3f9-c6619503fca8"
      },
      "source": [
        "# build a table of hourly returns for each darwin for the hours from 18 August 2020 to 24 December 2020\n",
        "dars=sorted(hourly.darwin.unique())\n",
        "lst=[hourly[hourly.darwin==dar][(hourly.hour>='2020-08-18 00:00:00') & (hourly.hour<'2020-12-24 22:00:00')][['hour','return']].rename(columns={'return':dar}) for i,dar in enumerate(dars)]\n",
        "hly_rtns=pd.merge(lst[0], lst[1], how='outer')\n",
        "for i in range(2,len(dars)):\n",
        "  hly_rtns=pd.merge(hly_rtns,lst[i], how='outer')\n",
        "hly_rtns.fillna(0., inplace=True)\n",
        "hly_rtns.head()"
      ],
      "execution_count": null,
      "outputs": [
        {
          "output_type": "execute_result",
          "data": {
            "text/html": [
              "<div>\n",
              "<style scoped>\n",
              "    .dataframe tbody tr th:only-of-type {\n",
              "        vertical-align: middle;\n",
              "    }\n",
              "\n",
              "    .dataframe tbody tr th {\n",
              "        vertical-align: top;\n",
              "    }\n",
              "\n",
              "    .dataframe thead th {\n",
              "        text-align: right;\n",
              "    }\n",
              "</style>\n",
              "<table border=\"1\" class=\"dataframe\">\n",
              "  <thead>\n",
              "    <tr style=\"text-align: right;\">\n",
              "      <th></th>\n",
              "      <th>hour</th>\n",
              "      <th>ACY</th>\n",
              "      <th>AUX</th>\n",
              "      <th>AWW</th>\n",
              "      <th>AZG</th>\n",
              "      <th>BAX</th>\n",
              "      <th>BFS</th>\n",
              "      <th>BGN</th>\n",
              "      <th>BOT</th>\n",
              "      <th>BSX</th>\n",
              "      <th>BZC</th>\n",
              "      <th>CBY</th>\n",
              "      <th>CIS</th>\n",
              "      <th>CSB</th>\n",
              "      <th>DIG</th>\n",
              "      <th>DZF</th>\n",
              "      <th>EEY</th>\n",
              "      <th>EOP</th>\n",
              "      <th>ERO</th>\n",
              "      <th>ERQ</th>\n",
              "      <th>FFV</th>\n",
              "      <th>FIR</th>\n",
              "      <th>FNM</th>\n",
              "      <th>FSK</th>\n",
              "      <th>GFJ</th>\n",
              "      <th>GGR</th>\n",
              "      <th>GRI</th>\n",
              "      <th>GRU</th>\n",
              "      <th>HCC</th>\n",
              "      <th>HEO</th>\n",
              "      <th>HQU</th>\n",
              "      <th>HZY</th>\n",
              "      <th>IDT</th>\n",
              "      <th>JHI</th>\n",
              "      <th>JNE</th>\n",
              "      <th>JTL</th>\n",
              "      <th>LEN</th>\n",
              "      <th>LHB</th>\n",
              "      <th>LUG</th>\n",
              "      <th>LWE</th>\n",
              "      <th>...</th>\n",
              "      <th>PPT</th>\n",
              "      <th>PUL</th>\n",
              "      <th>RAT</th>\n",
              "      <th>REU</th>\n",
              "      <th>RWJ</th>\n",
              "      <th>SBY</th>\n",
              "      <th>SEH</th>\n",
              "      <th>SHC</th>\n",
              "      <th>SKI</th>\n",
              "      <th>SKN</th>\n",
              "      <th>SRI</th>\n",
              "      <th>SYO</th>\n",
              "      <th>TDD</th>\n",
              "      <th>TER</th>\n",
              "      <th>THA</th>\n",
              "      <th>TKT</th>\n",
              "      <th>TMF</th>\n",
              "      <th>TRO</th>\n",
              "      <th>TXR</th>\n",
              "      <th>UEI</th>\n",
              "      <th>ULI</th>\n",
              "      <th>ULT</th>\n",
              "      <th>UPP</th>\n",
              "      <th>USX</th>\n",
              "      <th>UYZ</th>\n",
              "      <th>VRT</th>\n",
              "      <th>VVC</th>\n",
              "      <th>WFJ</th>\n",
              "      <th>WWT</th>\n",
              "      <th>WXN</th>\n",
              "      <th>XRX</th>\n",
              "      <th>YAX</th>\n",
              "      <th>YEC</th>\n",
              "      <th>YFC</th>\n",
              "      <th>ZAB</th>\n",
              "      <th>ZCD</th>\n",
              "      <th>ZTY</th>\n",
              "      <th>ZUJ</th>\n",
              "      <th>ZVQ</th>\n",
              "      <th>ZXW</th>\n",
              "    </tr>\n",
              "  </thead>\n",
              "  <tbody>\n",
              "    <tr>\n",
              "      <th>0</th>\n",
              "      <td>2020-08-18 08:00:00</td>\n",
              "      <td>-0.2046</td>\n",
              "      <td>-0.3729</td>\n",
              "      <td>0.0280</td>\n",
              "      <td>-0.2541</td>\n",
              "      <td>0.0</td>\n",
              "      <td>0.0</td>\n",
              "      <td>0.0</td>\n",
              "      <td>0.0</td>\n",
              "      <td>0.0</td>\n",
              "      <td>0.0451</td>\n",
              "      <td>0.0764</td>\n",
              "      <td>0.0</td>\n",
              "      <td>0.0</td>\n",
              "      <td>-0.1314</td>\n",
              "      <td>0.0</td>\n",
              "      <td>0.0204</td>\n",
              "      <td>-0.1279</td>\n",
              "      <td>0.1415</td>\n",
              "      <td>0.0</td>\n",
              "      <td>0.3504</td>\n",
              "      <td>0.0</td>\n",
              "      <td>0.0</td>\n",
              "      <td>0.0</td>\n",
              "      <td>-0.2471</td>\n",
              "      <td>0.0</td>\n",
              "      <td>-0.3225</td>\n",
              "      <td>0.0</td>\n",
              "      <td>0.4445</td>\n",
              "      <td>0.0</td>\n",
              "      <td>0.0</td>\n",
              "      <td>0.0</td>\n",
              "      <td>0.0</td>\n",
              "      <td>-0.1538</td>\n",
              "      <td>-0.3362</td>\n",
              "      <td>0.0</td>\n",
              "      <td>-0.4258</td>\n",
              "      <td>0.0</td>\n",
              "      <td>-0.3640</td>\n",
              "      <td>0.1924</td>\n",
              "      <td>...</td>\n",
              "      <td>-0.0489</td>\n",
              "      <td>0.0347</td>\n",
              "      <td>0.0000</td>\n",
              "      <td>0.0</td>\n",
              "      <td>0.0</td>\n",
              "      <td>-0.1468</td>\n",
              "      <td>-0.2239</td>\n",
              "      <td>-0.5369</td>\n",
              "      <td>0.1110</td>\n",
              "      <td>0.0789</td>\n",
              "      <td>0.1928</td>\n",
              "      <td>0.3188</td>\n",
              "      <td>0.3515</td>\n",
              "      <td>-0.0600</td>\n",
              "      <td>0.0</td>\n",
              "      <td>0.0</td>\n",
              "      <td>0.0</td>\n",
              "      <td>-0.2799</td>\n",
              "      <td>0.0</td>\n",
              "      <td>0.0</td>\n",
              "      <td>0.0607</td>\n",
              "      <td>0.7122</td>\n",
              "      <td>0.3243</td>\n",
              "      <td>0.0981</td>\n",
              "      <td>0.0000</td>\n",
              "      <td>-0.1237</td>\n",
              "      <td>0.0</td>\n",
              "      <td>-0.3184</td>\n",
              "      <td>0.0</td>\n",
              "      <td>0.042</td>\n",
              "      <td>0.0</td>\n",
              "      <td>0.0</td>\n",
              "      <td>0.0125</td>\n",
              "      <td>0.0179</td>\n",
              "      <td>-1.0387</td>\n",
              "      <td>0.0641</td>\n",
              "      <td>0.0</td>\n",
              "      <td>-0.1574</td>\n",
              "      <td>-0.0757</td>\n",
              "      <td>0.1344</td>\n",
              "    </tr>\n",
              "    <tr>\n",
              "      <th>1</th>\n",
              "      <td>2020-08-18 09:00:00</td>\n",
              "      <td>-0.7715</td>\n",
              "      <td>-1.3755</td>\n",
              "      <td>-0.0205</td>\n",
              "      <td>-0.0352</td>\n",
              "      <td>0.0</td>\n",
              "      <td>0.0</td>\n",
              "      <td>0.0</td>\n",
              "      <td>0.0</td>\n",
              "      <td>0.0</td>\n",
              "      <td>-0.0134</td>\n",
              "      <td>0.0346</td>\n",
              "      <td>0.0</td>\n",
              "      <td>0.0</td>\n",
              "      <td>0.0487</td>\n",
              "      <td>0.0</td>\n",
              "      <td>0.0018</td>\n",
              "      <td>0.2048</td>\n",
              "      <td>-0.0544</td>\n",
              "      <td>0.0</td>\n",
              "      <td>0.2084</td>\n",
              "      <td>0.0</td>\n",
              "      <td>0.0</td>\n",
              "      <td>0.0</td>\n",
              "      <td>0.0683</td>\n",
              "      <td>0.0</td>\n",
              "      <td>0.0423</td>\n",
              "      <td>0.0</td>\n",
              "      <td>0.0228</td>\n",
              "      <td>0.0</td>\n",
              "      <td>0.0</td>\n",
              "      <td>0.0</td>\n",
              "      <td>0.0</td>\n",
              "      <td>0.0570</td>\n",
              "      <td>0.1824</td>\n",
              "      <td>0.0</td>\n",
              "      <td>0.1580</td>\n",
              "      <td>0.0</td>\n",
              "      <td>0.0246</td>\n",
              "      <td>0.0571</td>\n",
              "      <td>...</td>\n",
              "      <td>0.1492</td>\n",
              "      <td>0.0629</td>\n",
              "      <td>0.0000</td>\n",
              "      <td>0.0</td>\n",
              "      <td>0.0</td>\n",
              "      <td>-0.0538</td>\n",
              "      <td>-0.0820</td>\n",
              "      <td>0.0460</td>\n",
              "      <td>0.0350</td>\n",
              "      <td>0.1163</td>\n",
              "      <td>-0.0742</td>\n",
              "      <td>0.7048</td>\n",
              "      <td>0.1127</td>\n",
              "      <td>-0.0921</td>\n",
              "      <td>0.0</td>\n",
              "      <td>0.0</td>\n",
              "      <td>0.0</td>\n",
              "      <td>-0.5873</td>\n",
              "      <td>0.0</td>\n",
              "      <td>0.0</td>\n",
              "      <td>-0.0594</td>\n",
              "      <td>-0.2741</td>\n",
              "      <td>-0.5190</td>\n",
              "      <td>-0.0378</td>\n",
              "      <td>0.0000</td>\n",
              "      <td>0.0460</td>\n",
              "      <td>0.0</td>\n",
              "      <td>-0.6679</td>\n",
              "      <td>0.0</td>\n",
              "      <td>0.000</td>\n",
              "      <td>0.0</td>\n",
              "      <td>0.0</td>\n",
              "      <td>-0.0682</td>\n",
              "      <td>0.0043</td>\n",
              "      <td>-0.2051</td>\n",
              "      <td>0.0091</td>\n",
              "      <td>0.0</td>\n",
              "      <td>0.0584</td>\n",
              "      <td>0.2911</td>\n",
              "      <td>0.0653</td>\n",
              "    </tr>\n",
              "    <tr>\n",
              "      <th>2</th>\n",
              "      <td>2020-08-18 10:00:00</td>\n",
              "      <td>-0.2072</td>\n",
              "      <td>-0.3696</td>\n",
              "      <td>-0.0200</td>\n",
              "      <td>0.1754</td>\n",
              "      <td>0.0</td>\n",
              "      <td>0.0</td>\n",
              "      <td>0.0</td>\n",
              "      <td>0.0</td>\n",
              "      <td>0.0</td>\n",
              "      <td>-0.0350</td>\n",
              "      <td>0.1176</td>\n",
              "      <td>0.0</td>\n",
              "      <td>0.0</td>\n",
              "      <td>0.0173</td>\n",
              "      <td>0.0</td>\n",
              "      <td>0.0226</td>\n",
              "      <td>-0.1140</td>\n",
              "      <td>-0.0179</td>\n",
              "      <td>0.0</td>\n",
              "      <td>-0.4030</td>\n",
              "      <td>0.0</td>\n",
              "      <td>0.0</td>\n",
              "      <td>0.0</td>\n",
              "      <td>0.0297</td>\n",
              "      <td>0.0</td>\n",
              "      <td>0.1094</td>\n",
              "      <td>0.0</td>\n",
              "      <td>0.0920</td>\n",
              "      <td>0.0</td>\n",
              "      <td>0.0</td>\n",
              "      <td>0.0</td>\n",
              "      <td>0.0</td>\n",
              "      <td>0.0203</td>\n",
              "      <td>0.0241</td>\n",
              "      <td>0.0</td>\n",
              "      <td>0.0559</td>\n",
              "      <td>0.0</td>\n",
              "      <td>0.2155</td>\n",
              "      <td>0.0632</td>\n",
              "      <td>...</td>\n",
              "      <td>-0.0878</td>\n",
              "      <td>0.0000</td>\n",
              "      <td>0.0000</td>\n",
              "      <td>0.0</td>\n",
              "      <td>0.0</td>\n",
              "      <td>-0.0460</td>\n",
              "      <td>0.0943</td>\n",
              "      <td>0.4213</td>\n",
              "      <td>0.0459</td>\n",
              "      <td>-0.4226</td>\n",
              "      <td>-0.0244</td>\n",
              "      <td>0.0976</td>\n",
              "      <td>-0.1895</td>\n",
              "      <td>-0.0513</td>\n",
              "      <td>0.0</td>\n",
              "      <td>0.0</td>\n",
              "      <td>0.0</td>\n",
              "      <td>1.1642</td>\n",
              "      <td>0.0</td>\n",
              "      <td>0.0</td>\n",
              "      <td>-0.0903</td>\n",
              "      <td>-0.0901</td>\n",
              "      <td>0.3634</td>\n",
              "      <td>-0.0124</td>\n",
              "      <td>-0.0284</td>\n",
              "      <td>0.0162</td>\n",
              "      <td>0.0</td>\n",
              "      <td>1.3240</td>\n",
              "      <td>0.0</td>\n",
              "      <td>0.000</td>\n",
              "      <td>0.0</td>\n",
              "      <td>0.0</td>\n",
              "      <td>0.0551</td>\n",
              "      <td>-0.0154</td>\n",
              "      <td>0.5658</td>\n",
              "      <td>-0.0328</td>\n",
              "      <td>0.0</td>\n",
              "      <td>0.0207</td>\n",
              "      <td>-0.1894</td>\n",
              "      <td>-0.1592</td>\n",
              "    </tr>\n",
              "    <tr>\n",
              "      <th>3</th>\n",
              "      <td>2020-08-18 11:00:00</td>\n",
              "      <td>0.5182</td>\n",
              "      <td>0.9239</td>\n",
              "      <td>0.0139</td>\n",
              "      <td>0.0390</td>\n",
              "      <td>0.0</td>\n",
              "      <td>0.0</td>\n",
              "      <td>0.0</td>\n",
              "      <td>0.0</td>\n",
              "      <td>0.0</td>\n",
              "      <td>0.0380</td>\n",
              "      <td>-0.5722</td>\n",
              "      <td>0.0</td>\n",
              "      <td>0.0</td>\n",
              "      <td>-0.0330</td>\n",
              "      <td>0.0</td>\n",
              "      <td>0.0014</td>\n",
              "      <td>-0.2086</td>\n",
              "      <td>0.0366</td>\n",
              "      <td>0.0</td>\n",
              "      <td>0.1120</td>\n",
              "      <td>0.0</td>\n",
              "      <td>0.0</td>\n",
              "      <td>0.0</td>\n",
              "      <td>-0.0700</td>\n",
              "      <td>0.0</td>\n",
              "      <td>-0.7223</td>\n",
              "      <td>0.0</td>\n",
              "      <td>0.0110</td>\n",
              "      <td>0.0</td>\n",
              "      <td>0.0</td>\n",
              "      <td>0.0</td>\n",
              "      <td>0.0</td>\n",
              "      <td>-0.0387</td>\n",
              "      <td>-0.1421</td>\n",
              "      <td>0.0</td>\n",
              "      <td>-0.1070</td>\n",
              "      <td>0.0</td>\n",
              "      <td>-0.4118</td>\n",
              "      <td>-0.0863</td>\n",
              "      <td>...</td>\n",
              "      <td>-0.0575</td>\n",
              "      <td>0.0000</td>\n",
              "      <td>0.0000</td>\n",
              "      <td>0.0</td>\n",
              "      <td>0.0</td>\n",
              "      <td>0.0459</td>\n",
              "      <td>0.2790</td>\n",
              "      <td>-0.6534</td>\n",
              "      <td>-0.0834</td>\n",
              "      <td>0.6474</td>\n",
              "      <td>0.0498</td>\n",
              "      <td>-0.2464</td>\n",
              "      <td>-0.1914</td>\n",
              "      <td>0.0224</td>\n",
              "      <td>0.0</td>\n",
              "      <td>0.0</td>\n",
              "      <td>0.0</td>\n",
              "      <td>-0.3642</td>\n",
              "      <td>0.0</td>\n",
              "      <td>0.0</td>\n",
              "      <td>-0.0455</td>\n",
              "      <td>0.1842</td>\n",
              "      <td>-0.4543</td>\n",
              "      <td>0.0254</td>\n",
              "      <td>0.5276</td>\n",
              "      <td>-0.0311</td>\n",
              "      <td>0.0</td>\n",
              "      <td>-0.4142</td>\n",
              "      <td>0.0</td>\n",
              "      <td>0.000</td>\n",
              "      <td>0.0</td>\n",
              "      <td>0.0</td>\n",
              "      <td>-0.3371</td>\n",
              "      <td>0.0237</td>\n",
              "      <td>0.3899</td>\n",
              "      <td>0.0122</td>\n",
              "      <td>0.0</td>\n",
              "      <td>-0.0396</td>\n",
              "      <td>0.1832</td>\n",
              "      <td>-0.0821</td>\n",
              "    </tr>\n",
              "    <tr>\n",
              "      <th>4</th>\n",
              "      <td>2020-08-18 12:00:00</td>\n",
              "      <td>3.4317</td>\n",
              "      <td>6.1181</td>\n",
              "      <td>0.0743</td>\n",
              "      <td>-0.2758</td>\n",
              "      <td>0.0</td>\n",
              "      <td>0.0</td>\n",
              "      <td>0.0</td>\n",
              "      <td>0.0</td>\n",
              "      <td>0.0</td>\n",
              "      <td>0.0951</td>\n",
              "      <td>-0.2141</td>\n",
              "      <td>0.0</td>\n",
              "      <td>0.0</td>\n",
              "      <td>-0.2208</td>\n",
              "      <td>0.0</td>\n",
              "      <td>0.1189</td>\n",
              "      <td>-0.3103</td>\n",
              "      <td>0.2415</td>\n",
              "      <td>0.0</td>\n",
              "      <td>0.3893</td>\n",
              "      <td>0.0</td>\n",
              "      <td>0.0</td>\n",
              "      <td>0.0</td>\n",
              "      <td>-0.3064</td>\n",
              "      <td>0.0</td>\n",
              "      <td>-0.6439</td>\n",
              "      <td>0.0</td>\n",
              "      <td>0.5604</td>\n",
              "      <td>0.0</td>\n",
              "      <td>0.0</td>\n",
              "      <td>0.0</td>\n",
              "      <td>0.0</td>\n",
              "      <td>-0.2584</td>\n",
              "      <td>-0.6364</td>\n",
              "      <td>0.0</td>\n",
              "      <td>-0.7154</td>\n",
              "      <td>0.0</td>\n",
              "      <td>-0.7258</td>\n",
              "      <td>0.5191</td>\n",
              "      <td>...</td>\n",
              "      <td>-0.0169</td>\n",
              "      <td>-0.0354</td>\n",
              "      <td>-0.0161</td>\n",
              "      <td>0.0</td>\n",
              "      <td>0.0</td>\n",
              "      <td>0.0484</td>\n",
              "      <td>0.1981</td>\n",
              "      <td>-0.4841</td>\n",
              "      <td>0.5091</td>\n",
              "      <td>0.6564</td>\n",
              "      <td>0.3292</td>\n",
              "      <td>0.6209</td>\n",
              "      <td>-0.2148</td>\n",
              "      <td>-0.0089</td>\n",
              "      <td>0.0</td>\n",
              "      <td>0.0</td>\n",
              "      <td>0.0</td>\n",
              "      <td>-1.0961</td>\n",
              "      <td>0.0</td>\n",
              "      <td>0.0</td>\n",
              "      <td>0.3504</td>\n",
              "      <td>0.7548</td>\n",
              "      <td>0.7006</td>\n",
              "      <td>0.1674</td>\n",
              "      <td>0.5344</td>\n",
              "      <td>-0.1306</td>\n",
              "      <td>0.0</td>\n",
              "      <td>-1.2466</td>\n",
              "      <td>0.0</td>\n",
              "      <td>0.000</td>\n",
              "      <td>0.0</td>\n",
              "      <td>0.0</td>\n",
              "      <td>0.2408</td>\n",
              "      <td>0.0241</td>\n",
              "      <td>-1.1173</td>\n",
              "      <td>0.1225</td>\n",
              "      <td>0.0</td>\n",
              "      <td>-0.2655</td>\n",
              "      <td>0.7707</td>\n",
              "      <td>0.4010</td>\n",
              "    </tr>\n",
              "  </tbody>\n",
              "</table>\n",
              "<p>5 rows × 97 columns</p>\n",
              "</div>"
            ],
            "text/plain": [
              "                 hour     ACY     AUX     AWW  ...  ZTY     ZUJ     ZVQ     ZXW\n",
              "0 2020-08-18 08:00:00 -0.2046 -0.3729  0.0280  ...  0.0 -0.1574 -0.0757  0.1344\n",
              "1 2020-08-18 09:00:00 -0.7715 -1.3755 -0.0205  ...  0.0  0.0584  0.2911  0.0653\n",
              "2 2020-08-18 10:00:00 -0.2072 -0.3696 -0.0200  ...  0.0  0.0207 -0.1894 -0.1592\n",
              "3 2020-08-18 11:00:00  0.5182  0.9239  0.0139  ...  0.0 -0.0396  0.1832 -0.0821\n",
              "4 2020-08-18 12:00:00  3.4317  6.1181  0.0743  ...  0.0 -0.2655  0.7707  0.4010\n",
              "\n",
              "[5 rows x 97 columns]"
            ]
          },
          "metadata": {
            "tags": []
          },
          "execution_count": 32
        }
      ]
    },
    {
      "cell_type": "code",
      "metadata": {
        "colab": {
          "base_uri": "https://localhost:8080/",
          "height": 163
        },
        "id": "G_ERBJbRJeLg",
        "outputId": "b5b501c5-e545-4b2e-d3d8-180b8df71b4a"
      },
      "source": [
        "# darwins with highest average hourly return\n",
        "means=pd.DataFrame(hly_rtns.mean(0), columns=['mean'])\n",
        "means.sort_values('mean', ascending=False).T"
      ],
      "execution_count": null,
      "outputs": [
        {
          "output_type": "stream",
          "text": [
            "/usr/local/lib/python3.7/dist-packages/ipykernel_launcher.py:2: FutureWarning: DataFrame.mean and DataFrame.median with numeric_only=None will include datetime64 and datetime64tz columns in a future version.\n",
            "  \n"
          ],
          "name": "stderr"
        },
        {
          "output_type": "execute_result",
          "data": {
            "text/html": [
              "<div>\n",
              "<style scoped>\n",
              "    .dataframe tbody tr th:only-of-type {\n",
              "        vertical-align: middle;\n",
              "    }\n",
              "\n",
              "    .dataframe tbody tr th {\n",
              "        vertical-align: top;\n",
              "    }\n",
              "\n",
              "    .dataframe thead th {\n",
              "        text-align: right;\n",
              "    }\n",
              "</style>\n",
              "<table border=\"1\" class=\"dataframe\">\n",
              "  <thead>\n",
              "    <tr style=\"text-align: right;\">\n",
              "      <th></th>\n",
              "      <th>ZVQ</th>\n",
              "      <th>AZG</th>\n",
              "      <th>BFS</th>\n",
              "      <th>WFJ</th>\n",
              "      <th>JTL</th>\n",
              "      <th>HZY</th>\n",
              "      <th>PHI</th>\n",
              "      <th>NWO</th>\n",
              "      <th>ERQ</th>\n",
              "      <th>ZCD</th>\n",
              "      <th>BGN</th>\n",
              "      <th>UYZ</th>\n",
              "      <th>TKT</th>\n",
              "      <th>BOT</th>\n",
              "      <th>SRI</th>\n",
              "      <th>NYP</th>\n",
              "      <th>EOP</th>\n",
              "      <th>PUL</th>\n",
              "      <th>ZAB</th>\n",
              "      <th>AUX</th>\n",
              "      <th>CBY</th>\n",
              "      <th>SEH</th>\n",
              "      <th>HEO</th>\n",
              "      <th>TXR</th>\n",
              "      <th>MUF</th>\n",
              "      <th>FIR</th>\n",
              "      <th>YFC</th>\n",
              "      <th>UEI</th>\n",
              "      <th>HCC</th>\n",
              "      <th>VRT</th>\n",
              "      <th>LHB</th>\n",
              "      <th>JHI</th>\n",
              "      <th>LEN</th>\n",
              "      <th>RAT</th>\n",
              "      <th>THA</th>\n",
              "      <th>NVL</th>\n",
              "      <th>LUG</th>\n",
              "      <th>NCT</th>\n",
              "      <th>NSC</th>\n",
              "      <th>PEW</th>\n",
              "      <th>...</th>\n",
              "      <th>XRX</th>\n",
              "      <th>HQU</th>\n",
              "      <th>MMY</th>\n",
              "      <th>ZUJ</th>\n",
              "      <th>YEC</th>\n",
              "      <th>RWJ</th>\n",
              "      <th>PPT</th>\n",
              "      <th>OXR</th>\n",
              "      <th>FSK</th>\n",
              "      <th>TRO</th>\n",
              "      <th>GRI</th>\n",
              "      <th>WWT</th>\n",
              "      <th>CSB</th>\n",
              "      <th>UPP</th>\n",
              "      <th>YAX</th>\n",
              "      <th>PME</th>\n",
              "      <th>ULT</th>\n",
              "      <th>BAX</th>\n",
              "      <th>DZF</th>\n",
              "      <th>SKN</th>\n",
              "      <th>MET</th>\n",
              "      <th>JNE</th>\n",
              "      <th>WXN</th>\n",
              "      <th>LWK</th>\n",
              "      <th>FFV</th>\n",
              "      <th>GFJ</th>\n",
              "      <th>TMF</th>\n",
              "      <th>OOS</th>\n",
              "      <th>GGR</th>\n",
              "      <th>DIG</th>\n",
              "      <th>SBY</th>\n",
              "      <th>ZXW</th>\n",
              "      <th>SHC</th>\n",
              "      <th>AWW</th>\n",
              "      <th>SYO</th>\n",
              "      <th>LWE</th>\n",
              "      <th>SKI</th>\n",
              "      <th>TDD</th>\n",
              "      <th>BZC</th>\n",
              "      <th>CIS</th>\n",
              "    </tr>\n",
              "  </thead>\n",
              "  <tbody>\n",
              "    <tr>\n",
              "      <th>mean</th>\n",
              "      <td>0.016565</td>\n",
              "      <td>0.013742</td>\n",
              "      <td>0.012682</td>\n",
              "      <td>0.012105</td>\n",
              "      <td>0.011587</td>\n",
              "      <td>0.011354</td>\n",
              "      <td>0.011118</td>\n",
              "      <td>0.010866</td>\n",
              "      <td>0.010481</td>\n",
              "      <td>0.009491</td>\n",
              "      <td>0.009225</td>\n",
              "      <td>0.008431</td>\n",
              "      <td>0.008265</td>\n",
              "      <td>0.007564</td>\n",
              "      <td>0.007448</td>\n",
              "      <td>0.007081</td>\n",
              "      <td>0.007073</td>\n",
              "      <td>0.006668</td>\n",
              "      <td>0.006646</td>\n",
              "      <td>0.006505</td>\n",
              "      <td>0.006444</td>\n",
              "      <td>0.006398</td>\n",
              "      <td>0.006105</td>\n",
              "      <td>0.006048</td>\n",
              "      <td>0.005723</td>\n",
              "      <td>0.005046</td>\n",
              "      <td>0.004877</td>\n",
              "      <td>0.004573</td>\n",
              "      <td>0.004247</td>\n",
              "      <td>0.004117</td>\n",
              "      <td>0.004057</td>\n",
              "      <td>0.003903</td>\n",
              "      <td>0.003757</td>\n",
              "      <td>0.003454</td>\n",
              "      <td>0.003443</td>\n",
              "      <td>0.003395</td>\n",
              "      <td>0.003355</td>\n",
              "      <td>0.003305</td>\n",
              "      <td>0.003144</td>\n",
              "      <td>0.002914</td>\n",
              "      <td>...</td>\n",
              "      <td>0.001126</td>\n",
              "      <td>0.001087</td>\n",
              "      <td>0.000958</td>\n",
              "      <td>0.000908</td>\n",
              "      <td>0.000843</td>\n",
              "      <td>0.000571</td>\n",
              "      <td>0.00055</td>\n",
              "      <td>0.000469</td>\n",
              "      <td>0.000154</td>\n",
              "      <td>0.000086</td>\n",
              "      <td>0.00008</td>\n",
              "      <td>0.000067</td>\n",
              "      <td>-0.000017</td>\n",
              "      <td>-0.000071</td>\n",
              "      <td>-0.000162</td>\n",
              "      <td>-0.000268</td>\n",
              "      <td>-0.000287</td>\n",
              "      <td>-0.000928</td>\n",
              "      <td>-0.000972</td>\n",
              "      <td>-0.001176</td>\n",
              "      <td>-0.00143</td>\n",
              "      <td>-0.001942</td>\n",
              "      <td>-0.002289</td>\n",
              "      <td>-0.002452</td>\n",
              "      <td>-0.003837</td>\n",
              "      <td>-0.004461</td>\n",
              "      <td>-0.004669</td>\n",
              "      <td>-0.004783</td>\n",
              "      <td>-0.005201</td>\n",
              "      <td>-0.006178</td>\n",
              "      <td>-0.00663</td>\n",
              "      <td>-0.006832</td>\n",
              "      <td>-0.007273</td>\n",
              "      <td>-0.009089</td>\n",
              "      <td>-0.009591</td>\n",
              "      <td>-0.010118</td>\n",
              "      <td>-0.011254</td>\n",
              "      <td>-0.01147</td>\n",
              "      <td>-0.016548</td>\n",
              "      <td>-0.017419</td>\n",
              "    </tr>\n",
              "  </tbody>\n",
              "</table>\n",
              "<p>1 rows × 96 columns</p>\n",
              "</div>"
            ],
            "text/plain": [
              "           ZVQ       AZG       BFS  ...      TDD       BZC       CIS\n",
              "mean  0.016565  0.013742  0.012682  ... -0.01147 -0.016548 -0.017419\n",
              "\n",
              "[1 rows x 96 columns]"
            ]
          },
          "metadata": {
            "tags": []
          },
          "execution_count": 33
        }
      ]
    },
    {
      "cell_type": "markdown",
      "metadata": {
        "id": "D3ePuAAbFMZK"
      },
      "source": [
        "\n",
        "\n",
        "\n",
        "\n",
        "### Ronda 1: Escoge los `darwins`"
      ]
    },
    {
      "cell_type": "code",
      "metadata": {
        "id": "4b_bX56wv8w_"
      },
      "source": [
        "def plot_dars(to_matlab):\n",
        "  rows, cols = 2, 11\n",
        "  fig , ax = plt.subplots(nrows = rows, ncols = cols, figsize=(22, 8))\n",
        "  for i in range(rows):\n",
        "    for j in range(cols):\n",
        "      darwin=to_matlab[cols*i+j]\n",
        "      color='#ffd966'\n",
        "      if darwin in drop:\n",
        "        color='red'\n",
        "      ax[i][j].plot(hourly[hourly.darwin==darwin].hour,hourly[hourly.darwin==darwin]['first']-hourly[hourly.darwin==darwin]['first'].to_list()[0], color=color)\n",
        "      #print(min(hourly[hourly.darwin==darwin]['first']-hourly[hourly.darwin==darwin]['first'].to_list()[0]),max(hourly[hourly.darwin==darwin]['first']-hourly[hourly.darwin==darwin]['first'].to_list()[0]))\n",
        "      ax[i][j].set_ylim(-40,55)\n",
        "      ax[i][j].set_title(darwin, color=color)\n",
        "      ax[i][j].set_frame_on(False)\n",
        "      ax[i][j].axes.get_xaxis().set_visible(False)\n",
        "      ax[i][j].axhline(y=0, color='grey', linestyle='dotted')"
      ],
      "execution_count": null,
      "outputs": []
    },
    {
      "cell_type": "code",
      "metadata": {
        "colab": {
          "base_uri": "https://localhost:8080/"
        },
        "id": "ONUMQnPxFO1F",
        "outputId": "87df44ae-d855-478d-d769-b38df0392f0f"
      },
      "source": [
        "to_matlab=sorted(means.sort_values('mean', ascending=False).index[:22])\n",
        "print('darwins',to_matlab)\n",
        "print('AssetMean',[round(hly_rtns[darwin].mean(),6) for darwin in to_matlab])\n",
        "print('AssetCovar',np.round(np.cov(np.array([hly_rtns[dar] for dar in to_matlab]),bias=True), 6))"
      ],
      "execution_count": null,
      "outputs": [
        {
          "output_type": "stream",
          "text": [
            "darwins ['AUX', 'AZG', 'BFS', 'BGN', 'BOT', 'CBY', 'EOP', 'ERQ', 'HZY', 'JTL', 'NWO', 'NYP', 'PHI', 'PUL', 'SEH', 'SRI', 'TKT', 'UYZ', 'WFJ', 'ZAB', 'ZCD', 'ZVQ']\n",
            "AssetMean [0.006505, 0.013742, 0.012682, 0.009225, 0.007564, 0.006444, 0.007073, 0.010481, 0.011354, 0.011587, 0.010866, 0.007081, 0.011118, 0.006668, 0.006398, 0.007448, 0.008265, 0.008431, 0.012105, 0.006646, 0.009491, 0.016565]\n",
            "AssetCovar [[ 3.48533e-01  5.05940e-02  5.21800e-03 -6.59900e-03  5.87800e-03\n",
            "  -1.07740e-02 -2.00280e-02  6.02300e-03  9.98000e-04  3.73200e-03\n",
            "  -3.78000e-04 -3.75060e-02  7.13300e-03 -3.89190e-02 -3.71900e-03\n",
            "   1.99870e-02 -5.02000e-04  2.82200e-03  6.57500e-03 -3.35100e-03\n",
            "   1.26030e-02 -1.22343e-01]\n",
            " [ 5.05940e-02  1.88605e-01  1.47700e-03 -3.25700e-03  8.50300e-03\n",
            "   3.20100e-03 -1.41290e-02 -2.33000e-04  5.86900e-03 -1.27110e-02\n",
            "   1.87500e-03  6.85000e-04  1.77140e-02 -1.58130e-02 -4.80700e-03\n",
            "   3.00870e-02  3.64300e-03  2.49600e-03  3.11860e-02 -3.89430e-02\n",
            "   5.33600e-03 -1.11429e-01]\n",
            " [ 5.21800e-03  1.47700e-03  6.66340e-02  4.20460e-02  4.46000e-04\n",
            "   9.65000e-04  3.80000e-05  2.01000e-04  3.86300e-03  1.01200e-03\n",
            "   4.32600e-03 -5.32900e-03  1.17200e-03  4.82800e-03  2.81400e-03\n",
            "  -5.70700e-03  3.43700e-03  3.39500e-03 -9.96800e-03  7.83600e-03\n",
            "   3.16200e-03 -2.52930e-02]\n",
            " [-6.59900e-03 -3.25700e-03  4.20460e-02  1.29205e-01 -1.00900e-03\n",
            "   2.03350e-02  4.90600e-03 -2.14000e-04  1.82850e-02  2.26200e-03\n",
            "   1.92080e-02 -1.96700e-03 -4.51600e-03  4.26400e-03  3.84700e-03\n",
            "  -6.72000e-04  1.69360e-02  4.14000e-03 -6.26100e-03  9.78800e-03\n",
            "   9.49100e-03  2.83310e-02]\n",
            " [ 5.87800e-03  8.50300e-03  4.46000e-04 -1.00900e-03  1.06046e-01\n",
            "   1.38000e-04 -1.02500e-03  2.23500e-03 -8.89000e-04 -6.60200e-03\n",
            "  -3.72000e-04 -6.02000e-04  3.39800e-03 -1.95600e-03  1.16600e-03\n",
            "   1.91800e-03  5.35000e-04  7.00300e-03  5.84400e-03  7.87000e-04\n",
            "   1.18000e-04 -3.93500e-03]\n",
            " [-1.07740e-02  3.20100e-03  9.65000e-04  2.03350e-02  1.38000e-04\n",
            "   1.08009e-01  2.94800e-03 -1.14500e-03  3.53590e-02 -8.20000e-05\n",
            "   1.84660e-02 -1.81700e-03  1.67900e-03  1.44100e-03  7.70000e-04\n",
            "   7.38800e-03  1.70800e-02 -2.55000e-04  1.07940e-02 -3.16000e-04\n",
            "   1.07730e-02  1.70860e-02]\n",
            " [-2.00280e-02 -1.41290e-02  3.80000e-05  4.90600e-03 -1.02500e-03\n",
            "   2.94800e-03  2.18290e-02  8.71000e-04 -3.95000e-04  2.24500e-03\n",
            "   2.74800e-03  1.62000e-04 -7.30800e-03  5.03400e-03  1.08920e-02\n",
            "  -1.06440e-02  3.88200e-03 -3.54400e-03 -9.04700e-03  1.80380e-02\n",
            "   1.36000e-04  4.48240e-02]\n",
            " [ 6.02300e-03 -2.33000e-04  2.01000e-04 -2.14000e-04  2.23500e-03\n",
            "  -1.14500e-03  8.71000e-04  5.24430e-02  6.20000e-05 -6.46000e-04\n",
            "   3.64000e-04  3.35700e-03  2.15400e-03  6.17700e-03  2.59300e-03\n",
            "  -2.81000e-03  1.02100e-03  1.80400e-03 -3.75100e-03  5.85000e-03\n",
            "   1.65500e-03 -4.96000e-04]\n",
            " [ 9.98000e-04  5.86900e-03  3.86300e-03  1.82850e-02 -8.89000e-04\n",
            "   3.53590e-02 -3.95000e-04  6.20000e-05  1.29009e-01 -7.88000e-04\n",
            "   2.33880e-02  3.29500e-03  1.03920e-02  2.81700e-03 -3.54500e-03\n",
            "   1.08230e-02  7.21600e-03  1.62000e-03  2.33790e-02 -2.91700e-03\n",
            "   1.71370e-02  1.85460e-02]\n",
            " [ 3.73200e-03 -1.27110e-02  1.01200e-03  2.26200e-03 -6.60200e-03\n",
            "  -8.20000e-05  2.24500e-03 -6.46000e-04 -7.88000e-04  1.10222e-01\n",
            "   3.20900e-03  1.25300e-03 -1.05300e-03 -2.37300e-03  1.00000e-03\n",
            "  -3.86800e-03  2.09500e-03 -1.53200e-03 -5.44200e-03 -1.99600e-03\n",
            "   9.63000e-04  4.39000e-03]\n",
            " [-3.78000e-04  1.87500e-03  4.32600e-03  1.92080e-02 -3.72000e-04\n",
            "   1.84660e-02  2.74800e-03  3.64000e-04  2.33880e-02  3.20900e-03\n",
            "   5.50620e-02  2.21300e-03  3.86400e-03  2.78200e-03  2.75500e-03\n",
            "  -1.50000e-04  3.63450e-02  1.66500e-03  1.28890e-02  5.16900e-03\n",
            "   7.19400e-03  1.75170e-02]\n",
            " [-3.75060e-02  6.85000e-04 -5.32900e-03 -1.96700e-03 -6.02000e-04\n",
            "  -1.81700e-03  1.62000e-04  3.35700e-03  3.29500e-03  1.25300e-03\n",
            "   2.21300e-03  6.59050e-02 -1.98100e-03  1.03200e-03 -2.12400e-03\n",
            "   2.45140e-02  2.11000e-03 -6.30000e-04  2.90000e-05 -3.31160e-02\n",
            "  -2.65400e-03  4.44790e-02]\n",
            " [ 7.13300e-03  1.77140e-02  1.17200e-03 -4.51600e-03  3.39800e-03\n",
            "   1.67900e-03 -7.30800e-03  2.15400e-03  1.03920e-02 -1.05300e-03\n",
            "   3.86400e-03 -1.98100e-03  1.45973e-01  4.73000e-04 -7.43500e-03\n",
            "   1.53310e-02  4.08200e-03 -2.19000e-04  1.51780e-01 -1.45050e-02\n",
            "   1.70500e-03 -4.98000e-02]\n",
            " [-3.89190e-02 -1.58130e-02  4.82800e-03  4.26400e-03 -1.95600e-03\n",
            "   1.44100e-03  5.03400e-03  6.17700e-03  2.81700e-03 -2.37300e-03\n",
            "   2.78200e-03  1.03200e-03  4.73000e-04  4.97750e-02  2.26000e-03\n",
            "  -1.01310e-02  4.43700e-03 -3.42100e-03  9.09000e-04  6.80400e-03\n",
            "   5.60000e-05  2.10800e-02]\n",
            " [-3.71900e-03 -4.80700e-03  2.81400e-03  3.84700e-03  1.16600e-03\n",
            "   7.70000e-04  1.08920e-02  2.59300e-03 -3.54500e-03  1.00000e-03\n",
            "   2.75500e-03 -2.12400e-03 -7.43500e-03  2.26000e-03  5.33940e-02\n",
            "  -1.60650e-02  5.88000e-03 -4.89300e-03 -7.62400e-03  4.34320e-02\n",
            "   1.56300e-03  1.85340e-02]\n",
            " [ 1.99870e-02  3.00870e-02 -5.70700e-03 -6.72000e-04  1.91800e-03\n",
            "   7.38800e-03 -1.06440e-02 -2.81000e-03  1.08230e-02 -3.86800e-03\n",
            "  -1.50000e-04  2.45140e-02  1.53310e-02 -1.01310e-02 -1.60650e-02\n",
            "   7.52170e-02 -5.31000e-04  1.05820e-02  2.95880e-02 -3.44600e-02\n",
            "   2.19100e-03 -1.48290e-02]\n",
            " [-5.02000e-04  3.64300e-03  3.43700e-03  1.69360e-02  5.35000e-04\n",
            "   1.70800e-02  3.88200e-03  1.02100e-03  7.21600e-03  2.09500e-03\n",
            "   3.63450e-02  2.11000e-03  4.08200e-03  4.43700e-03  5.88000e-03\n",
            "  -5.31000e-04  8.81210e-02  2.70000e-04  6.36200e-03  5.23200e-03\n",
            "   6.81800e-03  6.46800e-03]\n",
            " [ 2.82200e-03  2.49600e-03  3.39500e-03  4.14000e-03  7.00300e-03\n",
            "  -2.55000e-04 -3.54400e-03  1.80400e-03  1.62000e-03 -1.53200e-03\n",
            "   1.66500e-03 -6.30000e-04 -2.19000e-04 -3.42100e-03 -4.89300e-03\n",
            "   1.05820e-02  2.70000e-04  2.21354e-01 -8.03900e-03  1.06400e-03\n",
            "   3.21400e-03  6.52900e-03]\n",
            " [ 6.57500e-03  3.11860e-02 -9.96800e-03 -6.26100e-03  5.84400e-03\n",
            "   1.07940e-02 -9.04700e-03 -3.75100e-03  2.33790e-02 -5.44200e-03\n",
            "   1.28890e-02  2.90000e-05  1.51780e-01  9.09000e-04 -7.62400e-03\n",
            "   2.95880e-02  6.36200e-03 -8.03900e-03  3.69196e-01 -1.89600e-03\n",
            "   2.48500e-03 -7.75250e-02]\n",
            " [-3.35100e-03 -3.89430e-02  7.83600e-03  9.78800e-03  7.87000e-04\n",
            "  -3.16000e-04  1.80380e-02  5.85000e-03 -2.91700e-03 -1.99600e-03\n",
            "   5.16900e-03 -3.31160e-02 -1.45050e-02  6.80400e-03  4.34320e-02\n",
            "  -3.44600e-02  5.23200e-03  1.06400e-03 -1.89600e-03  1.62185e-01\n",
            "   4.22500e-03  5.40200e-03]\n",
            " [ 1.26030e-02  5.33600e-03  3.16200e-03  9.49100e-03  1.18000e-04\n",
            "   1.07730e-02  1.36000e-04  1.65500e-03  1.71370e-02  9.63000e-04\n",
            "   7.19400e-03 -2.65400e-03  1.70500e-03  5.60000e-05  1.56300e-03\n",
            "   2.19100e-03  6.81800e-03  3.21400e-03  2.48500e-03  4.22500e-03\n",
            "   2.74810e-02 -1.44800e-03]\n",
            " [-1.22343e-01 -1.11429e-01 -2.52930e-02  2.83310e-02 -3.93500e-03\n",
            "   1.70860e-02  4.48240e-02 -4.96000e-04  1.85460e-02  4.39000e-03\n",
            "   1.75170e-02  4.44790e-02 -4.98000e-02  2.10800e-02  1.85340e-02\n",
            "  -1.48290e-02  6.46800e-03  6.52900e-03 -7.75250e-02  5.40200e-03\n",
            "  -1.44800e-03  8.59706e-01]]\n"
          ],
          "name": "stdout"
        }
      ]
    },
    {
      "cell_type": "code",
      "metadata": {
        "colab": {
          "base_uri": "https://localhost:8080/",
          "height": 447
        },
        "id": "0j_XxozmHD5c",
        "outputId": "0d55dbfc-65fc-43d7-8713-a456a2eb8885"
      },
      "source": [
        "# from matlab\n",
        "drop=['BGN','CBY','SRI','UYZ']\n",
        "wts=[0.0183,0.0485,0.0924,0.0353,0.1918,0.0837,0.0061,0.0604,0.0509,0.0553,0.0386,0.0686,0.0192,0.0605,0.0162,0.0203,0.1249,0.0090]\n",
        "dars=['AUX', 'AZG', 'BFS', 'BOT', 'EOP', 'ERQ', 'HZY', 'JTL', 'NWO', 'NYP', 'PHI', 'PUL', 'SEH', 'TKT', 'WFJ', 'ZAB', 'ZCD', 'ZVQ']\n",
        "plot_dars(to_matlab)\n",
        "plt.savefig('round1.png')"
      ],
      "execution_count": null,
      "outputs": [
        {
          "output_type": "display_data",
          "data": {
            "image/png": "[encoded data removed]",
            "text/plain": [
              "<Figure size 1584x576 with 22 Axes>"
            ]
          },
          "metadata": {
            "tags": [],
            "needs_background": "light"
          }
        }
      ]
    },
    {
      "cell_type": "markdown",
      "metadata": {
        "id": "jaN4oR5DHJMJ"
      },
      "source": [
        "### Ronda 2: Quita los `darwins` autocorrelacionados"
      ]
    },
    {
      "cell_type": "code",
      "metadata": {
        "colab": {
          "base_uri": "https://localhost:8080/"
        },
        "id": "-nrcv_2xHXNu",
        "outputId": "8c55f7ef-915b-4da0-abc9-f2517848bb17"
      },
      "source": [
        "to_matlab=sorted(means.sort_values('mean', ascending=False).index[:26])\n",
        "to_matlab.remove('BGN')\n",
        "to_matlab.remove('CBY')\n",
        "to_matlab.remove('SRI')\n",
        "to_matlab.remove('UYZ')\n",
        "\n",
        "print('new:',sorted(means.sort_values('mean', ascending=False).index[22:26]))\n",
        "print('darwins',to_matlab)\n",
        "print('AssetMean',[round(hly_rtns[darwin].mean(),6) for darwin in to_matlab])\n",
        "print('AssetCovar',np.round(np.cov(np.array([hly_rtns[dar] for dar in to_matlab]),bias=True), 6))"
      ],
      "execution_count": null,
      "outputs": [
        {
          "output_type": "stream",
          "text": [
            "new: ['FIR', 'HEO', 'MUF', 'TXR']\n",
            "darwins ['AUX', 'AZG', 'BFS', 'BOT', 'EOP', 'ERQ', 'FIR', 'HEO', 'HZY', 'JTL', 'MUF', 'NWO', 'NYP', 'PHI', 'PUL', 'SEH', 'TKT', 'TXR', 'WFJ', 'ZAB', 'ZCD', 'ZVQ']\n",
            "AssetMean [0.006505, 0.013742, 0.012682, 0.007564, 0.007073, 0.010481, 0.005046, 0.006105, 0.011354, 0.011587, 0.005723, 0.010866, 0.007081, 0.011118, 0.006668, 0.006398, 0.008265, 0.006048, 0.012105, 0.006646, 0.009491, 0.016565]\n",
            "AssetCovar [[ 3.48533e-01  5.05940e-02  5.21800e-03  5.87800e-03 -2.00280e-02\n",
            "   6.02300e-03 -2.48400e-03 -2.05000e-03  9.98000e-04  3.73200e-03\n",
            "  -2.27240e-02 -3.78000e-04 -3.75060e-02  7.13300e-03 -3.89190e-02\n",
            "  -3.71900e-03 -5.02000e-04 -1.42800e-03  6.57500e-03 -3.35100e-03\n",
            "   1.26030e-02 -1.22343e-01]\n",
            " [ 5.05940e-02  1.88605e-01  1.47700e-03  8.50300e-03 -1.41290e-02\n",
            "  -2.33000e-04 -4.87000e-04  1.09700e-03  5.86900e-03 -1.27110e-02\n",
            "   2.67000e-04  1.87500e-03  6.85000e-04  1.77140e-02 -1.58130e-02\n",
            "  -4.80700e-03  3.64300e-03  1.17100e-03  3.11860e-02 -3.89430e-02\n",
            "   5.33600e-03 -1.11429e-01]\n",
            " [ 5.21800e-03  1.47700e-03  6.66340e-02  4.46000e-04  3.80000e-05\n",
            "   2.01000e-04  1.30000e-05 -4.32500e-03  3.86300e-03  1.01200e-03\n",
            "   2.76400e-03  4.32600e-03 -5.32900e-03  1.17200e-03  4.82800e-03\n",
            "   2.81400e-03  3.43700e-03  1.33400e-03 -9.96800e-03  7.83600e-03\n",
            "   3.16200e-03 -2.52930e-02]\n",
            " [ 5.87800e-03  8.50300e-03  4.46000e-04  1.06046e-01 -1.02500e-03\n",
            "   2.23500e-03 -1.93400e-03 -1.01900e-03 -8.89000e-04 -6.60200e-03\n",
            "  -2.32400e-03 -3.72000e-04 -6.02000e-04  3.39800e-03 -1.95600e-03\n",
            "   1.16600e-03  5.35000e-04  2.75000e-04  5.84400e-03  7.87000e-04\n",
            "   1.18000e-04 -3.93500e-03]\n",
            " [-2.00280e-02 -1.41290e-02  3.80000e-05 -1.02500e-03  2.18290e-02\n",
            "   8.71000e-04  3.62000e-04 -9.66000e-04 -3.95000e-04  2.24500e-03\n",
            "   3.68900e-03  2.74800e-03  1.62000e-04 -7.30800e-03  5.03400e-03\n",
            "   1.08920e-02  3.88200e-03  7.60000e-05 -9.04700e-03  1.80380e-02\n",
            "   1.36000e-04  4.48240e-02]\n",
            " [ 6.02300e-03 -2.33000e-04  2.01000e-04  2.23500e-03  8.71000e-04\n",
            "   5.24430e-02 -1.00500e-03 -4.59800e-03  6.20000e-05 -6.46000e-04\n",
            "  -8.38000e-04  3.64000e-04  3.35700e-03  2.15400e-03  6.17700e-03\n",
            "   2.59300e-03  1.02100e-03 -2.97000e-04 -3.75100e-03  5.85000e-03\n",
            "   1.65500e-03 -4.96000e-04]\n",
            " [-2.48400e-03 -4.87000e-04  1.30000e-05 -1.93400e-03  3.62000e-04\n",
            "  -1.00500e-03  7.19900e-03  2.24700e-03  7.00000e-06  1.48100e-03\n",
            "   4.80000e-04  5.00000e-06  8.43000e-04  2.26000e-03  9.72000e-04\n",
            "  -1.00000e-05  2.19000e-04  3.22000e-04  8.62000e-04 -1.46700e-03\n",
            "   2.33000e-04  3.25700e-03]\n",
            " [-2.05000e-03  1.09700e-03 -4.32500e-03 -1.01900e-03 -9.66000e-04\n",
            "  -4.59800e-03  2.24700e-03  1.88411e-01  4.63000e-04  1.72310e-02\n",
            "   2.00000e-05  3.75500e-03  2.17900e-03  5.04000e-03  4.70000e-04\n",
            "  -4.48800e-03 -4.74000e-04  6.51000e-04  2.03900e-03 -1.91200e-03\n",
            "   4.65000e-04 -4.02000e-03]\n",
            " [ 9.98000e-04  5.86900e-03  3.86300e-03 -8.89000e-04 -3.95000e-04\n",
            "   6.20000e-05  7.00000e-06  4.63000e-04  1.29009e-01 -7.88000e-04\n",
            "   1.32600e-03  2.33880e-02  3.29500e-03  1.03920e-02  2.81700e-03\n",
            "  -3.54500e-03  7.21600e-03  6.04300e-03  2.33790e-02 -2.91700e-03\n",
            "   1.71370e-02  1.85460e-02]\n",
            " [ 3.73200e-03 -1.27110e-02  1.01200e-03 -6.60200e-03  2.24500e-03\n",
            "  -6.46000e-04  1.48100e-03  1.72310e-02 -7.88000e-04  1.10222e-01\n",
            "  -6.82000e-04  3.20900e-03  1.25300e-03 -1.05300e-03 -2.37300e-03\n",
            "   1.00000e-03  2.09500e-03  4.56000e-04 -5.44200e-03 -1.99600e-03\n",
            "   9.63000e-04  4.39000e-03]\n",
            " [-2.27240e-02  2.67000e-04  2.76400e-03 -2.32400e-03  3.68900e-03\n",
            "  -8.38000e-04  4.80000e-04  2.00000e-05  1.32600e-03 -6.82000e-04\n",
            "   3.75980e-02  3.32800e-03  1.98370e-02 -1.01700e-02  5.82800e-03\n",
            "  -3.17000e-04  3.39000e-03  6.70000e-05 -9.38400e-03 -2.32100e-03\n",
            "  -2.06000e-04  2.76830e-02]\n",
            " [-3.78000e-04  1.87500e-03  4.32600e-03 -3.72000e-04  2.74800e-03\n",
            "   3.64000e-04  5.00000e-06  3.75500e-03  2.33880e-02  3.20900e-03\n",
            "   3.32800e-03  5.50620e-02  2.21300e-03  3.86400e-03  2.78200e-03\n",
            "   2.75500e-03  3.63450e-02  4.21200e-03  1.28890e-02  5.16900e-03\n",
            "   7.19400e-03  1.75170e-02]\n",
            " [-3.75060e-02  6.85000e-04 -5.32900e-03 -6.02000e-04  1.62000e-04\n",
            "   3.35700e-03  8.43000e-04  2.17900e-03  3.29500e-03  1.25300e-03\n",
            "   1.98370e-02  2.21300e-03  6.59050e-02 -1.98100e-03  1.03200e-03\n",
            "  -2.12400e-03  2.11000e-03  2.86000e-04  2.90000e-05 -3.31160e-02\n",
            "  -2.65400e-03  4.44790e-02]\n",
            " [ 7.13300e-03  1.77140e-02  1.17200e-03  3.39800e-03 -7.30800e-03\n",
            "   2.15400e-03  2.26000e-03  5.04000e-03  1.03920e-02 -1.05300e-03\n",
            "  -1.01700e-02  3.86400e-03 -1.98100e-03  1.45973e-01  4.73000e-04\n",
            "  -7.43500e-03  4.08200e-03  1.32300e-03  1.51780e-01 -1.45050e-02\n",
            "   1.70500e-03 -4.98000e-02]\n",
            " [-3.89190e-02 -1.58130e-02  4.82800e-03 -1.95600e-03  5.03400e-03\n",
            "   6.17700e-03  9.72000e-04  4.70000e-04  2.81700e-03 -2.37300e-03\n",
            "   5.82800e-03  2.78200e-03  1.03200e-03  4.73000e-04  4.97750e-02\n",
            "   2.26000e-03  4.43700e-03  2.80000e-05  9.09000e-04  6.80400e-03\n",
            "   5.60000e-05  2.10800e-02]\n",
            " [-3.71900e-03 -4.80700e-03  2.81400e-03  1.16600e-03  1.08920e-02\n",
            "   2.59300e-03 -1.00000e-05 -4.48800e-03 -3.54500e-03  1.00000e-03\n",
            "  -3.17000e-04  2.75500e-03 -2.12400e-03 -7.43500e-03  2.26000e-03\n",
            "   5.33940e-02  5.88000e-03  2.30000e-05 -7.62400e-03  4.34320e-02\n",
            "   1.56300e-03  1.85340e-02]\n",
            " [-5.02000e-04  3.64300e-03  3.43700e-03  5.35000e-04  3.88200e-03\n",
            "   1.02100e-03  2.19000e-04 -4.74000e-04  7.21600e-03  2.09500e-03\n",
            "   3.39000e-03  3.63450e-02  2.11000e-03  4.08200e-03  4.43700e-03\n",
            "   5.88000e-03  8.81210e-02  2.25000e-03  6.36200e-03  5.23200e-03\n",
            "   6.81800e-03  6.46800e-03]\n",
            " [-1.42800e-03  1.17100e-03  1.33400e-03  2.75000e-04  7.60000e-05\n",
            "  -2.97000e-04  3.22000e-04  6.51000e-04  6.04300e-03  4.56000e-04\n",
            "   6.70000e-05  4.21200e-03  2.86000e-04  1.32300e-03  2.80000e-05\n",
            "   2.30000e-05  2.25000e-03  2.40260e-02  3.04400e-03 -7.50000e-05\n",
            "   9.28000e-04  6.25400e-03]\n",
            " [ 6.57500e-03  3.11860e-02 -9.96800e-03  5.84400e-03 -9.04700e-03\n",
            "  -3.75100e-03  8.62000e-04  2.03900e-03  2.33790e-02 -5.44200e-03\n",
            "  -9.38400e-03  1.28890e-02  2.90000e-05  1.51780e-01  9.09000e-04\n",
            "  -7.62400e-03  6.36200e-03  3.04400e-03  3.69196e-01 -1.89600e-03\n",
            "   2.48500e-03 -7.75250e-02]\n",
            " [-3.35100e-03 -3.89430e-02  7.83600e-03  7.87000e-04  1.80380e-02\n",
            "   5.85000e-03 -1.46700e-03 -1.91200e-03 -2.91700e-03 -1.99600e-03\n",
            "  -2.32100e-03  5.16900e-03 -3.31160e-02 -1.45050e-02  6.80400e-03\n",
            "   4.34320e-02  5.23200e-03 -7.50000e-05 -1.89600e-03  1.62185e-01\n",
            "   4.22500e-03  5.40200e-03]\n",
            " [ 1.26030e-02  5.33600e-03  3.16200e-03  1.18000e-04  1.36000e-04\n",
            "   1.65500e-03  2.33000e-04  4.65000e-04  1.71370e-02  9.63000e-04\n",
            "  -2.06000e-04  7.19400e-03 -2.65400e-03  1.70500e-03  5.60000e-05\n",
            "   1.56300e-03  6.81800e-03  9.28000e-04  2.48500e-03  4.22500e-03\n",
            "   2.74810e-02 -1.44800e-03]\n",
            " [-1.22343e-01 -1.11429e-01 -2.52930e-02 -3.93500e-03  4.48240e-02\n",
            "  -4.96000e-04  3.25700e-03 -4.02000e-03  1.85460e-02  4.39000e-03\n",
            "   2.76830e-02  1.75170e-02  4.44790e-02 -4.98000e-02  2.10800e-02\n",
            "   1.85340e-02  6.46800e-03  6.25400e-03 -7.75250e-02  5.40200e-03\n",
            "  -1.44800e-03  8.59706e-01]]\n"
          ],
          "name": "stdout"
        }
      ]
    },
    {
      "cell_type": "code",
      "metadata": {
        "colab": {
          "base_uri": "https://localhost:8080/",
          "height": 447
        },
        "id": "S3uaQzj_HiRC",
        "outputId": "e3e8fd62-2eb8-4e9f-9f73-c0266cbff753"
      },
      "source": [
        "# from matlab\n",
        "drop=['HZY','WFJ','SEH','TKT']\n",
        "dars=['AUX', 'AZG', 'BFS', 'BOT', 'EOP', 'ERQ', 'FIR', 'HEO', 'JTL', 'MUF', 'NWO', 'NYP', 'PHI', 'PUL', 'TXR', 'ZAB', 'ZCD', 'ZVQ']\n",
        "wts=[0.0173,0.0379,0.0629,0.0309,0.1232,0.0654,0.2552,0.0076,0.0378,0.0235,0.0329,0.0487,0.0272,0.0383,0.0762,0.0165,0.0930,0.0055]\n",
        "plot_dars(to_matlab)\n",
        "plt.savefig('round2.png')"
      ],
      "execution_count": null,
      "outputs": [
        {
          "output_type": "display_data",
          "data": {
            "image/png": "[encoded data removed]",
            "text/plain": [
              "<Figure size 1584x576 with 22 Axes>"
            ]
          },
          "metadata": {
            "tags": [],
            "needs_background": "light"
          }
        }
      ]
    },
    {
      "cell_type": "markdown",
      "metadata": {
        "id": "afo5kKRnIKuu"
      },
      "source": [
        "Prueba de concepto: Codalab Score, 7 abril: **10.30**"
      ]
    },
    {
      "cell_type": "markdown",
      "metadata": {
        "id": "yIaTa0DtHoVi"
      },
      "source": [
        "### Ronda 3: Rinse and repeat"
      ]
    },
    {
      "cell_type": "code",
      "metadata": {
        "colab": {
          "base_uri": "https://localhost:8080/"
        },
        "id": "-vWmJuDyHq0j",
        "outputId": "1304cac3-c628-4a72-dd58-ddd1a64f61d5"
      },
      "source": [
        "to_matlab=sorted(means.sort_values('mean', ascending=False).index[:30])\n",
        "to_matlab.remove('BGN')\n",
        "to_matlab.remove('CBY')\n",
        "to_matlab.remove('SRI')\n",
        "to_matlab.remove('UYZ')\n",
        "\n",
        "to_matlab.remove('HZY')\n",
        "to_matlab.remove('WFJ')\n",
        "to_matlab.remove('SEH')\n",
        "to_matlab.remove('TKT')\n",
        "\n",
        "print('new:',sorted(means.sort_values('mean', ascending=False).index[26:30]))\n",
        "print('darwins',to_matlab)\n",
        "print('AssetMean',[round(hly_rtns[darwin].mean(),6) for darwin in to_matlab])\n",
        "print('AssetCovar',np.round(np.cov(np.array([hly_rtns[dar] for dar in to_matlab]),bias=True), 6))"
      ],
      "execution_count": null,
      "outputs": [
        {
          "output_type": "stream",
          "text": [
            "new: ['HCC', 'UEI', 'VRT', 'YFC']\n",
            "darwins ['AUX', 'AZG', 'BFS', 'BOT', 'EOP', 'ERQ', 'FIR', 'HCC', 'HEO', 'JTL', 'MUF', 'NWO', 'NYP', 'PHI', 'PUL', 'TXR', 'UEI', 'VRT', 'YFC', 'ZAB', 'ZCD', 'ZVQ']\n",
            "AssetMean [0.006505, 0.013742, 0.012682, 0.007564, 0.007073, 0.010481, 0.005046, 0.004247, 0.006105, 0.011587, 0.005723, 0.010866, 0.007081, 0.011118, 0.006668, 0.006048, 0.004573, 0.004117, 0.004877, 0.006646, 0.009491, 0.016565]\n",
            "AssetCovar [[ 3.48533e-01  5.05940e-02  5.21800e-03  5.87800e-03 -2.00280e-02\n",
            "   6.02300e-03 -2.48400e-03  1.08600e-02 -2.05000e-03  3.73200e-03\n",
            "  -2.27240e-02 -3.78000e-04 -3.75060e-02  7.13300e-03 -3.89190e-02\n",
            "  -1.42800e-03 -7.14000e-04  1.72140e-02  4.04300e-03 -3.35100e-03\n",
            "   1.26030e-02 -1.22343e-01]\n",
            " [ 5.05940e-02  1.88605e-01  1.47700e-03  8.50300e-03 -1.41290e-02\n",
            "  -2.33000e-04 -4.87000e-04  2.15010e-02  1.09700e-03 -1.27110e-02\n",
            "   2.67000e-04  1.87500e-03  6.85000e-04  1.77140e-02 -1.58130e-02\n",
            "   1.17100e-03 -1.85900e-03  3.25430e-02  1.32740e-02 -3.89430e-02\n",
            "   5.33600e-03 -1.11429e-01]\n",
            " [ 5.21800e-03  1.47700e-03  6.66340e-02  4.46000e-04  3.80000e-05\n",
            "   2.01000e-04  1.30000e-05 -2.33000e-04 -4.32500e-03  1.01200e-03\n",
            "   2.76400e-03  4.32600e-03 -5.32900e-03  1.17200e-03  4.82800e-03\n",
            "   1.33400e-03  4.14800e-03  5.63600e-03  2.83300e-03  7.83600e-03\n",
            "   3.16200e-03 -2.52930e-02]\n",
            " [ 5.87800e-03  8.50300e-03  4.46000e-04  1.06046e-01 -1.02500e-03\n",
            "   2.23500e-03 -1.93400e-03  5.03000e-03 -1.01900e-03 -6.60200e-03\n",
            "  -2.32400e-03 -3.72000e-04 -6.02000e-04  3.39800e-03 -1.95600e-03\n",
            "   2.75000e-04 -1.04200e-03  2.80000e-04  3.81900e-03  7.87000e-04\n",
            "   1.18000e-04 -3.93500e-03]\n",
            " [-2.00280e-02 -1.41290e-02  3.80000e-05 -1.02500e-03  2.18290e-02\n",
            "   8.71000e-04  3.62000e-04 -2.63100e-03 -9.66000e-04  2.24500e-03\n",
            "   3.68900e-03  2.74800e-03  1.62000e-04 -7.30800e-03  5.03400e-03\n",
            "   7.60000e-05  2.41000e-03 -1.52200e-03 -4.45400e-03  1.80380e-02\n",
            "   1.36000e-04  4.48240e-02]\n",
            " [ 6.02300e-03 -2.33000e-04  2.01000e-04  2.23500e-03  8.71000e-04\n",
            "   5.24430e-02 -1.00500e-03 -2.18400e-03 -4.59800e-03 -6.46000e-04\n",
            "  -8.38000e-04  3.64000e-04  3.35700e-03  2.15400e-03  6.17700e-03\n",
            "  -2.97000e-04  6.10000e-04  2.39500e-03 -2.95000e-04  5.85000e-03\n",
            "   1.65500e-03 -4.96000e-04]\n",
            " [-2.48400e-03 -4.87000e-04  1.30000e-05 -1.93400e-03  3.62000e-04\n",
            "  -1.00500e-03  7.19900e-03  1.05200e-03  2.24700e-03  1.48100e-03\n",
            "   4.80000e-04  5.00000e-06  8.43000e-04  2.26000e-03  9.72000e-04\n",
            "   3.22000e-04 -4.13000e-04 -5.47000e-04  5.80000e-05 -1.46700e-03\n",
            "   2.33000e-04  3.25700e-03]\n",
            " [ 1.08600e-02  2.15010e-02 -2.33000e-04  5.03000e-03 -2.63100e-03\n",
            "  -2.18400e-03  1.05200e-03  6.56330e-02  4.29000e-03 -5.74000e-04\n",
            "  -2.27600e-03  8.26000e-04 -5.42500e-03  7.86100e-03 -3.31400e-03\n",
            "   3.93000e-04 -3.10100e-03  9.30500e-03  3.66400e-03 -1.17730e-02\n",
            "   7.95000e-04 -6.47800e-03]\n",
            " [-2.05000e-03  1.09700e-03 -4.32500e-03 -1.01900e-03 -9.66000e-04\n",
            "  -4.59800e-03  2.24700e-03  4.29000e-03  1.88411e-01  1.72310e-02\n",
            "   2.00000e-05  3.75500e-03  2.17900e-03  5.04000e-03  4.70000e-04\n",
            "   6.51000e-04 -2.14400e-03 -7.46800e-03 -2.94500e-03 -1.91200e-03\n",
            "   4.65000e-04 -4.02000e-03]\n",
            " [ 3.73200e-03 -1.27110e-02  1.01200e-03 -6.60200e-03  2.24500e-03\n",
            "  -6.46000e-04  1.48100e-03 -5.74000e-04  1.72310e-02  1.10222e-01\n",
            "  -6.82000e-04  3.20900e-03  1.25300e-03 -1.05300e-03 -2.37300e-03\n",
            "   4.56000e-04 -3.55500e-03  5.70200e-03  8.70000e-04 -1.99600e-03\n",
            "   9.63000e-04  4.39000e-03]\n",
            " [-2.27240e-02  2.67000e-04  2.76400e-03 -2.32400e-03  3.68900e-03\n",
            "  -8.38000e-04  4.80000e-04 -2.27600e-03  2.00000e-05 -6.82000e-04\n",
            "   3.75980e-02  3.32800e-03  1.98370e-02 -1.01700e-02  5.82800e-03\n",
            "   6.70000e-05  1.20100e-03  4.14000e-04 -3.97100e-03 -2.32100e-03\n",
            "  -2.06000e-04  2.76830e-02]\n",
            " [-3.78000e-04  1.87500e-03  4.32600e-03 -3.72000e-04  2.74800e-03\n",
            "   3.64000e-04  5.00000e-06  8.26000e-04  3.75500e-03  3.20900e-03\n",
            "   3.32800e-03  5.50620e-02  2.21300e-03  3.86400e-03  2.78200e-03\n",
            "   4.21200e-03  9.69000e-04  2.10500e-03 -3.04000e-04  5.16900e-03\n",
            "   7.19400e-03  1.75170e-02]\n",
            " [-3.75060e-02  6.85000e-04 -5.32900e-03 -6.02000e-04  1.62000e-04\n",
            "   3.35700e-03  8.43000e-04 -5.42500e-03  2.17900e-03  1.25300e-03\n",
            "   1.98370e-02  2.21300e-03  6.59050e-02 -1.98100e-03  1.03200e-03\n",
            "   2.86000e-04 -2.79000e-03 -6.22000e-04 -4.85700e-03 -3.31160e-02\n",
            "  -2.65400e-03  4.44790e-02]\n",
            " [ 7.13300e-03  1.77140e-02  1.17200e-03  3.39800e-03 -7.30800e-03\n",
            "   2.15400e-03  2.26000e-03  7.86100e-03  5.04000e-03 -1.05300e-03\n",
            "  -1.01700e-02  3.86400e-03 -1.98100e-03  1.45973e-01  4.73000e-04\n",
            "   1.32300e-03 -1.03000e-04  3.93900e-03 -5.45000e-04 -1.45050e-02\n",
            "   1.70500e-03 -4.98000e-02]\n",
            " [-3.89190e-02 -1.58130e-02  4.82800e-03 -1.95600e-03  5.03400e-03\n",
            "   6.17700e-03  9.72000e-04 -3.31400e-03  4.70000e-04 -2.37300e-03\n",
            "   5.82800e-03  2.78200e-03  1.03200e-03  4.73000e-04  4.97750e-02\n",
            "   2.80000e-05  1.30000e-03 -6.17100e-03 -1.45000e-03  6.80400e-03\n",
            "   5.60000e-05  2.10800e-02]\n",
            " [-1.42800e-03  1.17100e-03  1.33400e-03  2.75000e-04  7.60000e-05\n",
            "  -2.97000e-04  3.22000e-04  3.93000e-04  6.51000e-04  4.56000e-04\n",
            "   6.70000e-05  4.21200e-03  2.86000e-04  1.32300e-03  2.80000e-05\n",
            "   2.40260e-02  6.51000e-04  4.08000e-04 -9.30000e-05 -7.50000e-05\n",
            "   9.28000e-04  6.25400e-03]\n",
            " [-7.14000e-04 -1.85900e-03  4.14800e-03 -1.04200e-03  2.41000e-03\n",
            "   6.10000e-04 -4.13000e-04 -3.10100e-03 -2.14400e-03 -3.55500e-03\n",
            "   1.20100e-03  9.69000e-04 -2.79000e-03 -1.03000e-04  1.30000e-03\n",
            "   6.51000e-04  4.65900e-02  1.05200e-03  1.78200e-03  4.35700e-03\n",
            "  -1.92000e-03 -6.73000e-04]\n",
            " [ 1.72140e-02  3.25430e-02  5.63600e-03  2.80000e-04 -1.52200e-03\n",
            "   2.39500e-03 -5.47000e-04  9.30500e-03 -7.46800e-03  5.70200e-03\n",
            "   4.14000e-04  2.10500e-03 -6.22000e-04  3.93900e-03 -6.17100e-03\n",
            "   4.08000e-04  1.05200e-03  1.23841e-01  1.36600e-03 -6.04900e-03\n",
            "   2.38400e-03 -1.73490e-02]\n",
            " [ 4.04300e-03  1.32740e-02  2.83300e-03  3.81900e-03 -4.45400e-03\n",
            "  -2.95000e-04  5.80000e-05  3.66400e-03 -2.94500e-03  8.70000e-04\n",
            "  -3.97100e-03 -3.04000e-04 -4.85700e-03 -5.45000e-04 -1.45000e-03\n",
            "  -9.30000e-05  1.78200e-03  1.36600e-03  2.54330e-02  1.33900e-03\n",
            "   4.36000e-04 -2.41130e-02]\n",
            " [-3.35100e-03 -3.89430e-02  7.83600e-03  7.87000e-04  1.80380e-02\n",
            "   5.85000e-03 -1.46700e-03 -1.17730e-02 -1.91200e-03 -1.99600e-03\n",
            "  -2.32100e-03  5.16900e-03 -3.31160e-02 -1.45050e-02  6.80400e-03\n",
            "  -7.50000e-05  4.35700e-03 -6.04900e-03  1.33900e-03  1.62185e-01\n",
            "   4.22500e-03  5.40200e-03]\n",
            " [ 1.26030e-02  5.33600e-03  3.16200e-03  1.18000e-04  1.36000e-04\n",
            "   1.65500e-03  2.33000e-04  7.95000e-04  4.65000e-04  9.63000e-04\n",
            "  -2.06000e-04  7.19400e-03 -2.65400e-03  1.70500e-03  5.60000e-05\n",
            "   9.28000e-04 -1.92000e-03  2.38400e-03  4.36000e-04  4.22500e-03\n",
            "   2.74810e-02 -1.44800e-03]\n",
            " [-1.22343e-01 -1.11429e-01 -2.52930e-02 -3.93500e-03  4.48240e-02\n",
            "  -4.96000e-04  3.25700e-03 -6.47800e-03 -4.02000e-03  4.39000e-03\n",
            "   2.76830e-02  1.75170e-02  4.44790e-02 -4.98000e-02  2.10800e-02\n",
            "   6.25400e-03 -6.73000e-04 -1.73490e-02 -2.41130e-02  5.40200e-03\n",
            "  -1.44800e-03  8.59706e-01]]\n"
          ],
          "name": "stdout"
        }
      ]
    },
    {
      "cell_type": "code",
      "metadata": {
        "colab": {
          "base_uri": "https://localhost:8080/",
          "height": 447
        },
        "id": "qcto5_UoH7WQ",
        "outputId": "9ee9f822-eb16-49e7-fd1a-895719ffb44a"
      },
      "source": [
        "# from matlab\n",
        "drop=['HCC','JTL','MUF','VRT']\n",
        "dars=['AUX', 'AZG', 'BFS', 'BOT', 'EOP', 'ERQ', 'FIR', 'HEO', 'NWO', 'NYP', 'PHI', 'PUL', 'TXR', 'UEI', 'YFC', 'ZAB', 'ZCD', 'ZVQ']\n",
        "wts=[0.0165,0.0340,0.0680,0.0242,0.1321,0.0676,0.2115,0.0117,0.0385,0.0568,0.0292,0.0328,0.0646,0.0218,0.0718,0.0124,0.0980,0.0084]\n",
        "plot_dars(to_matlab)"
      ],
      "execution_count": null,
      "outputs": [
        {
          "output_type": "display_data",
          "data": {
            "image/png": "[encoded data removed]",
            "text/plain": [
              "<Figure size 1584x576 with 22 Axes>"
            ]
          },
          "metadata": {
            "tags": [],
            "needs_background": "light"
          }
        }
      ]
    },
    {
      "cell_type": "markdown",
      "metadata": {
        "id": "6mc3ffttP-Mt"
      },
      "source": [
        "### Diferencias entre los Darwins de 8,3 y los Darwins de 10,3"
      ]
    },
    {
      "cell_type": "code",
      "metadata": {
        "id": "w3QmnOkxKYz5"
      },
      "source": [
        "def plot_train_and_test_dars(dars, color='black'):\n",
        "  rows, cols=2, int(.5+len(dars)/2)\n",
        "  fig, ax = plt.subplots(nrows = rows, ncols = cols, figsize=(20, 8))\n",
        "  for i in range(rows):\n",
        "    for j in range(cols):\n",
        "      darwin=dars[cols*i+j]\n",
        "      ax[i][j].plot(candles[candles.darwin==darwin].date.apply(lambda x: x.date()).to_list()+hourly[hourly.darwin==darwin].hour.apply(lambda x: x.date()).to_list(),\n",
        "                    (candles[candles.darwin==darwin]['open']-candles[candles.darwin==darwin]['open'][0]).to_list()+(hourly[hourly.darwin==darwin]['first']-candles[candles.darwin==darwin]['open'].to_list()[0]).to_list(),\n",
        "                     color=color)\n",
        "      ax[i][j].set_title(darwin, color=color, loc='center', y=0.8)\n",
        "      ax[i][j].set_ylim(-50,170)\n",
        "      ax[i][j].set_frame_on(False)\n",
        "      ax[i][j].set_xlabel('Entrenamiento | Test')\n",
        "      ax[i][j].set_xticklabels([])\n",
        "      ax[i][j].axvline(x=hourly[hourly.darwin==darwin].hour.apply(lambda x: x.date()).to_list()[0], color='grey', linestyle='dashed')\n",
        "      ax[i][j].axhline(y=0, color='grey', linestyle='dotted')"
      ],
      "execution_count": null,
      "outputs": []
    },
    {
      "cell_type": "code",
      "metadata": {
        "colab": {
          "base_uri": "https://localhost:8080/",
          "height": 365
        },
        "id": "yCoUbjkTTCpu",
        "outputId": "e52ca8b8-7b99-4120-a16e-b768f42ba9f3"
      },
      "source": [
        "# nuevos por 10,3\n",
        "dars=['AUX','BOT','EOP','ERQ','FIR','HEO','MUF','NYP','ZAB','ZVQ']\n",
        "plot_train_and_test_dars(dars,color='#ffd966')\n",
        "plt.savefig('train_test.png')"
      ],
      "execution_count": null,
      "outputs": [
        {
          "output_type": "display_data",
          "data": {
            "image/png": "[encoded data removed]",
            "text/plain": [
              "<Figure size 1440x576 with 10 Axes>"
            ]
          },
          "metadata": {
            "tags": [],
            "needs_background": "light"
          }
        }
      ]
    },
    {
      "cell_type": "code",
      "metadata": {
        "colab": {
          "base_uri": "https://localhost:8080/",
          "height": 365
        },
        "id": "UfOyBtvMmWrO",
        "outputId": "25561740-2594-4d6b-87bf-dfc8c58ce80c"
      },
      "source": [
        "# en 8,3 pero no en 10,3\n",
        "dars=['FSK','LUG','MUF','NCT','PEW','TER','UEI','UYZ','WWT','XRX']\n",
        "plot_train_and_test_dars(dars,color='red')"
      ],
      "execution_count": null,
      "outputs": [
        {
          "output_type": "display_data",
          "data": {
            "image/png": "[encoded data removed]",
            "text/plain": [
              "<Figure size 1440x576 with 10 Axes>"
            ]
          },
          "metadata": {
            "tags": [],
            "needs_background": "light"
          }
        }
      ]
    },
    {
      "cell_type": "code",
      "metadata": {
        "colab": {
          "base_uri": "https://localhost:8080/",
          "height": 365
        },
        "id": "KffvFZpJm8Bm",
        "outputId": "689f7638-3a6e-402c-db51-54dcb32aaeae"
      },
      "source": [
        "# en 8,3 y 10,3\n",
        "dars=['AZG','BFS','JTL','NWO','PHI','PUL','TXR','ZCD']\n",
        "plot_train_and_test_dars(dars)"
      ],
      "execution_count": null,
      "outputs": [
        {
          "output_type": "display_data",
          "data": {
            "image/png": "[encoded data removed]",
            "text/plain": [
              "<Figure size 1440x576 with 8 Axes>"
            ]
          },
          "metadata": {
            "tags": [],
            "needs_background": "light"
          }
        }
      ]
    },
    {
      "cell_type": "markdown",
      "metadata": {
        "id": "XqihhDMuTaVQ"
      },
      "source": [
        "# Reflexiones"
      ]
    },
    {
      "cell_type": "markdown",
      "metadata": {
        "id": "d86fWj8pKhrN"
      },
      "source": [
        "- El hecho de repensar lo que hice por el reto con la idea de explicarlo a otros resultó ser una forma estupenda de revelar los fallos.\n",
        "- ¡Para y piensa! Haz un 'time-out' para repensar. Vale la pena revisar todos los puntos de decisión y replantar el problema.\n",
        "- ¡Ten paciencia!\n",
        "  - espera el tiempo de descarga de todos los datos, aunque sean horas\n",
        "  - espera a que el algoritmo de MATLAB converja, invertas horas en hacerlo\n",
        "- ¡Concéntrate en una sola tarea!\n",
        "  - Todos tenemos que lidiar con muchas tareas.\n",
        "  - Necesitas tener la cabeza despejada.\n",
        "  - Es mejor trabajar secuencialmente que en paralelo (no soy un GPU).\n",
        "- Cree en ti mismo.\n",
        "- Aprendemos haciendo.\n",
        "- ...\n"
      ]
    },
    {
      "cell_type": "markdown",
      "metadata": {
        "id": "6BObDoXNnUWS"
      },
      "source": [
        "También he conseguido el cuarto puesto, junto con #javic y #agnprz, en el reto de visión por ordenador y el sexto puesto en el reto de PLN. Si tienes datos a entender, estaré encantada de ayudarte 😊"
      ]
    },
    {
      "cell_type": "markdown",
      "metadata": {
        "id": "DhlODw0lHx2i"
      },
      "source": [
        "Gracias a [SPAIN-AI](https://www.spain-ai.com/index.php), [Darwinex](https://https://www.darwinex.com/es/) y los demás participantes."
      ]
    }
  ]
}